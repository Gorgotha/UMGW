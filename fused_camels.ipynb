{
 "cells": [
  {
   "cell_type": "code",
   "execution_count": 1,
   "id": "2014204d",
   "metadata": {},
   "outputs": [],
   "source": [
    "import numpy as np\n",
    "import matplotlib.pyplot as plt\n",
    "import ot\n",
    "import torch\n",
    "import anytree\n",
    "\n",
    "import sys, os\n",
    "#np.set_printoptions(suppress=True, precision=40)\n",
    "\n",
    "import math"
   ]
  },
  {
   "cell_type": "code",
   "execution_count": 2,
   "id": "e21093bc",
   "metadata": {},
   "outputs": [],
   "source": [
    "def compute_local_cost(pi, a, dx, b, dy, eps, rho, rho2, complete_cost=True):\n",
    "    \"\"\"\n",
    "    Author: Thibault Séjourné <https://github.com/thibsej/unbalanced_gromov_wasserstein>\n",
    "    \n",
    "    Compute the local cost by averaging the distortion with the current\n",
    "    transport plan.\n",
    "\n",
    "    Parameters\n",
    "    ----------\n",
    "    pi: torch.Tensor of size [Batch, size_X, size_Y]\n",
    "    transport plan used to compute local cost\n",
    "\n",
    "    a: torch.Tensor of size [Batch, size_X]\n",
    "    Input measure of the first mm-space.\n",
    "\n",
    "    dx: torch.Tensor of size [Batch, size_X, size_X]\n",
    "    Input metric of the first mm-space.\n",
    "\n",
    "    b: torch.Tensor of size [Batch, size_Y]\n",
    "    Input measure of the second mm-space.\n",
    "\n",
    "    dy: torch.Tensor of size [Batch, size_Y, size_Y]\n",
    "    Input metric of the second mm-space.\n",
    "\n",
    "    eps: float\n",
    "    Strength of entropic regularization.\n",
    "\n",
    "    rho: float\n",
    "    Strength of penalty on the first marginal of pi.\n",
    "\n",
    "    rho2: float\n",
    "    Strength of penalty on the first marginal of pi. If set to None it is\n",
    "    equal to rho.\n",
    "\n",
    "    complete_cost: bool\n",
    "    If set to True, computes the full local cost, otherwise it computes the\n",
    "    cross-part on (X,Y) to reduce computational complexity.\n",
    "\n",
    "    Returns\n",
    "    ----------\n",
    "    lcost: torch.Tensor of size [Batch, size_X, size_Y]\n",
    "    local cost depending on the current transport plan.\n",
    "    \"\"\"\n",
    "    tmp = np.ones(np.shape(pi)[0])\n",
    "    leb1 = tmp / np.sum(tmp)\n",
    "    tmp = np.ones(np.shape(pi)[1])\n",
    "    leb2 = tmp / np.sum(tmp)\n",
    "    distxy = torch.einsum(\n",
    "        \"ij,kj->ik\", dx, torch.einsum(\"kl,jl->kj\", dy, pi)\n",
    "    )\n",
    "    kl_pi = torch.sum(\n",
    "        pi * (pi / (leb1[:, None] * leb2[None, :]) + 1e-10).log()\n",
    "    )\n",
    "    #print(kl_pi)\n",
    "    #kl_pi = 0\n",
    "    if not complete_cost:\n",
    "        return - 2 * distxy + eps * kl_pi\n",
    "\n",
    "    mu, nu = torch.sum(pi, dim=1), torch.sum(pi, dim=0)\n",
    "    distxx = torch.einsum(\"ij,j->i\", dx ** 2, mu)\n",
    "    distyy = torch.einsum(\"kl,l->k\", dy ** 2, nu)\n",
    "\n",
    "    lcost = (distxx[:, None] + distyy[None, :] - 2 * distxy) #+ eps * kl_pi\n",
    "\n",
    "    if rho < float(\"Inf\") and rho > 0:\n",
    "        lcost = (\n",
    "                lcost\n",
    "                + rho\n",
    "                * torch.sum(mu * (mu / a + 1e-10).log())\n",
    "        )\n",
    "    if rho2 < float(\"Inf\") and rho2 > 0:\n",
    "        lcost = (\n",
    "                lcost\n",
    "                + rho2\n",
    "                * torch.sum(nu * (nu / b + 1e-10).log())\n",
    "        )\n",
    "    return lcost\n"
   ]
  },
  {
   "cell_type": "code",
   "execution_count": 3,
   "id": "ef67165a",
   "metadata": {},
   "outputs": [],
   "source": [
    "def tree_sinkhorn_sep(root, eps, rho,\n",
    "    divergence='KL',\n",
    "    max_iter=10000,\n",
    "    cvgce_thres=1e-5, \n",
    "    n_its_check_cvgce=10,\n",
    "    pot_large=1e10,\n",
    "    verbose=False):\n",
    "\n",
    "    assert divergence in ['KL', 'TV'], \"unknown divergence\"\n",
    "\n",
    "    # init tree\n",
    "    assert hasattr(root, 'mu'), \"root node needs to be a node with given measure mu or domain_shape must be given\"\n",
    "    #lebesgue = np.ones(domain_shape) / np.prod(domain_shape)\n",
    "    forward = [node for node in anytree.PreOrderIter(root)]\n",
    "    backward = forward[::-1]\n",
    "    for node in forward:\n",
    "        assert hasattr(node, 'cost')\n",
    "        node.given = (hasattr(node, 'mu'))\n",
    "        if node.cost is not None:\n",
    "            node.domain_shape = len(node.cost.T)\n",
    "        else:\n",
    "            node.domain_shape = len(node.mu)\n",
    "        if node.given:\n",
    "            node.u = np.ones(node.domain_shape)\n",
    "        else:\n",
    "            node.u = [np.ones(node.domain_shape) for _ in range(node.n_labels)]\n",
    "        node.K = [] if node.is_root else np.exp(-node.cost/eps)\n",
    "        node.a_forw = [np.ones(node.domain_shape) for _ in range(node.n_labels)]\n",
    "        if not node.is_root:\n",
    "            node.a_backw = [np.ones(node.parent.domain_shape) for _ in range(node.n_labels)]\n",
    "        node.marginal = None\n",
    "        node.pi_left = None\n",
    "        node.pi_right = None\n",
    "        if rho is not None:\n",
    "            node.rho = rho\n",
    "        node.exponent = node.rho/(node.rho+eps) if not np.isinf(node.rho) else 1.0\n",
    "\n",
    "    # init iterations\n",
    "    update = np.inf\n",
    "    it = 0\n",
    "    memsnapit = 10\n",
    "    #     tracemalloc.start(1000)\n",
    "    prevru = None\n",
    "    prevn2u = None\n",
    "    mid = forward[1]\n",
    "    # unbalanced multi-sinkhorn iterations\n",
    "    while (update > cvgce_thres and it < max_iter):\n",
    "        del prevru\n",
    "        del prevn2u\n",
    "        prevru = deepcopy(r.u)\n",
    "        prevn2u = deepcopy(r.children[0].children[0].u)\n",
    "        # forward pass: update scaling variables u and then update alphas in\n",
    "        # direction from root down towards leaves simultaneously\n",
    "        for node in forward:\n",
    "            if node.given:\n",
    "                incoming = [np.sum(child.a_backw,axis=0) for child in node.children] + ([] if node.is_root else [np.sum(node.a_forw,axis=0)])\n",
    "            else:\n",
    "                incoming = [child.a_backw for child in node.children] + ([] if node.is_root else [node.a_forw])\n",
    "            if node.given:\n",
    "                if node.exponent == 0:#\n",
    "                    node.u = np.ones(np.shape(node.u))#\n",
    "                elif divergence == 'KL':\n",
    "                    node.u = (node.mu / np.prod(incoming,axis=0))**node.exponent #*node.itermult\n",
    "                elif divergence == 'TV':\n",
    "                    print(\"TV NOT IMPLEMENTED YET\")\n",
    "                    node.u = np.minimum(np.exp((rho+0)/eps), np.maximum(np.exp(-(rho+0)/eps), node.mu/np.prod(incoming, axis=0)))\n",
    "            for i, child in enumerate(node.children):\n",
    "                #print(\"node.id:\" + str(node.id) + \", child.id:\" + str(child.id))\n",
    "                incoming = np.array(incoming)\n",
    "                if node.given:\n",
    "                    a_prod = np.prod(list(incoming[:i]) + list(incoming[i+1:]), axis=0)\n",
    "                    #assume child is not given:\n",
    "                    child.a_forw = np.array([child.K[l].T.dot(node.u*a_prod) for l in range(node.n_labels)])\n",
    "                else:\n",
    "                    if i == 0:\n",
    "                        a_prod = incoming[i+1:][0]\n",
    "                    #assume child is given\n",
    "                    child.a_forw = np.array([child.K[l].T.dot(node.u[l]*a_prod[l]) for l in range(node.n_labels)])\n",
    "                \n",
    "        # backward pass: update alphas in direction from leaves up towards root\n",
    "        for node in backward[:-1]: # everyone except root\n",
    "            a_prod = np.array([np.prod([child.a_backw[l] for child in node.children], axis=0) for l in range(node.n_labels)])\n",
    "            if node.given:\n",
    "                a_prod = 1\n",
    "                node.a_backw = [node.K[l].dot(node.u*a_prod) for l in range(node.n_labels)]\n",
    "            else:\n",
    "                a_prod = [np.prod([child.a_backw[l] for child in node.children], axis=0) for l in range(node.n_labels)]\n",
    "                node.a_backw = [node.K[l].dot(node.u[l]*a_prod[l]) for l in range(node.n_labels)]\n",
    "\n",
    "        it += 1\n",
    "\n",
    "        # compute updates every couple iterations\n",
    "        if it % n_its_check_cvgce == 0:\n",
    "            abs_err = np.max([np.max(np.abs(r.u - prevru)),np.max(np.abs(r.children[0].children[0].u - prevn2u))])\n",
    "            update = abs_err / max(1., r.u.max(), prevru.max(), r.children[0].children[0].u.max(), prevn2u.max())\n",
    "            \n",
    "            if verbose >= 2:\n",
    "                print(\"-----it {0}, update {1}\".format(it, update))\n",
    "            #if np.isinf(update):\n",
    "            #    print(\"Algorithm diverged. Return None.\")\n",
    "                #return None\n",
    "\n",
    "    # compute marginals and marginal plans\n",
    "    for node in forward:\n",
    "        if node.given:\n",
    "            incoming = [np.sum(child.a_backw,axis=0) for child in node.children] + ([] if node.is_root else [np.sum(node.a_forw,axis=0)])\n",
    "            node.marginal = node.u * np.prod(incoming, axis=0)\n",
    "        else:\n",
    "            incoming = np.array([np.array([child.a_backw[l] for child in node.children] + [node.a_forw[l]]) for l in range(node.n_labels)])           \n",
    "            node.marginal = np.array([node.u[l] * np.prod(incoming[l], axis=0) for l in range(node.n_labels)])\n",
    "        #node.marginal = node.u * np.prod(incoming, axis=0)\n",
    "        if not node.is_root:\n",
    "            parent_in = [([] if node.parent.is_root else [node.parent.a_forw[l]]) \\\n",
    "                        + [child.a_backw[l] for child in node.parent.children if child != node] for l in range(node.n_labels)] # first line: from parent's parent, second line: from parents children except node\n",
    "\n",
    "            if node.given:\n",
    "                node.pi_left = node.parent.u * node.parent.a_forw\n",
    "                node.pi_right = node.u\n",
    "                node.pi = np.array([node.pi_left[l][:, None] * node.K[l] * node.pi_right[None, :] for l in range(node.n_labels)]) #/ node.marginal\n",
    "            else:\n",
    "                node.pi_left = node.parent.u\n",
    "                node.pi_right = np.array(node.u) * np.array(node.children[0].a_backw)\n",
    "                node.pi = np.array([node.pi_left[:, None] * node.K[l] * node.pi_right[l][None, :] for l in range(node.n_labels)]) #/ node.marginal\n",
    "                     \n",
    "\n",
    "    #print(\"Terminated after {0} iterations with last update {1}.\".format(it, update))\n",
    "    return root"
   ]
  },
  {
   "cell_type": "code",
   "execution_count": 4,
   "id": "412eafed",
   "metadata": {},
   "outputs": [],
   "source": [
    "def MUGW_fused2(r, eps, rho,alph,img1 = None,img2 = None,n_its = 80,\n",
    "    divergence='KL',\n",
    "    max_iter=10000,plan_cvgce_thres = 1e-6,\n",
    "    sink_cvgce_thres=1e-5,\n",
    "    n_its_check_cvgce=10,\n",
    "    sink_n_its_check_cvgce=10,\n",
    "    pot_large=1e10,\n",
    "    verbose=False,\n",
    "    plot_intermediate = False):\n",
    "    \n",
    "    forward = [node for node in anytree.PreOrderIter(r)]\n",
    "    i = 0\n",
    "    update = np.inf\n",
    "    while i <= n_its and update > plan_cvgce_thres:\n",
    "        #Update pis and costs\n",
    "        for node in forward:\n",
    "            if i == 0:\n",
    "                node.base_rho = node.rho\n",
    "            if node.is_root:\n",
    "                node.nu = node.mu\n",
    "                if (hasattr(node.children[0],'pi')):\n",
    "                    node.rho = np.sum(node.children[0].pi) * node.base_rho\n",
    "                continue\n",
    "                \n",
    "            #update pi\n",
    "            if not (hasattr(node, 'pi')):\n",
    "                node.pi = (1/node.n_labels) * np.array([ot.unif(len(node.parent.M))[:,None] * ot.unif(len(node.M))[None,:] for _ in range(node.n_labels)])\n",
    "                sumnew = 1\n",
    "            else:\n",
    "                sumold = np.sum(node.old_pi)\n",
    "                sumnew = np.sum(node.pi)\n",
    "                node.pi = np.sqrt(sumold/sumnew) * node.pi\n",
    "            node.rho = sumnew * node.base_rho\n",
    "            epstilde = sumnew * eps\n",
    "\n",
    "            #update cost\n",
    "            node.old_pi = node.pi\n",
    "            if (hasattr(node, 'mu')):\n",
    "                assert not (hasattr(node.parent, 'mu'))\n",
    "                tmp = [compute_local_cost(torch.from_numpy(node.pi[l]),\n",
    "                                                    None,\n",
    "                                                    torch.from_numpy(node.parent.M),\n",
    "                                                    node.mu,\n",
    "                                                    torch.from_numpy(node.M),\n",
    "                                                    eps,\n",
    "                                                    node.parent.rho,\n",
    "                                                    node.rho) for l in range(node.n_labels)]\n",
    "            else:\n",
    "                assert (hasattr(node.parent, 'mu'))\n",
    "                tmp = [compute_local_cost(torch.from_numpy(node.pi[l]),\n",
    "                                                    node.parent.mu,\n",
    "                                                    torch.from_numpy(node.parent.M),\n",
    "                                                    None,\n",
    "                                                    torch.from_numpy(node.M),\n",
    "                                                    eps,\n",
    "                                                    node.parent.rho,\n",
    "                                                    node.rho) for l in range(node.n_labels)]\n",
    "            node.cost = node.t * alph * np.array(torch.sum(torch.stack(tmp),dim=0))\n",
    "            node.cost = np.array([node.cost + node.t *(1/2)*(1-alph) * node.ot_cost[l] for l in range(node.n_labels)])            \n",
    "            node.cost = np.array(node.cost)\n",
    "        \n",
    "        #sinkhorn\n",
    "        r = tree_sinkhorn_sep(r,epstilde,rho,divergence = divergence,max_iter=max_iter,cvgce_thres=sink_cvgce_thres,n_its_check_cvgce=n_its_check_cvgce,pot_large=pot_large,verbose=verbose)\n",
    "        \n",
    "        if plot_intermediate:\n",
    "            fig,ax = plt.subplots(1,4)\n",
    "            ax[0].imshow(forward[1].marginal[0].reshape(pix,pix))\n",
    "            ax[1].imshow(forward[1].marginal[1].reshape(pix,pix))\n",
    "            ax[2].imshow(forward[1].marginal[2].reshape(pix,pix))\n",
    "            ax[3].imshow(forward[1].marginal[3].reshape(pix,pix))\n",
    "            plt.show()\n",
    "        \n",
    "        if i % n_its_check_cvgce == 0:\n",
    "            update = max([max([np.abs(node.old_pi[l] - node.pi[l]).max() \\\n",
    "                          / max(1., node.old_pi[l].max(), node.pi[l].max()) \\\n",
    "                        for l in range(node.n_labels)]) for node in forward[1:]])\n",
    "            #print(update)\n",
    "        i += 1\n",
    "        if update < plan_cvgce_thres:\n",
    "            break\n",
    "    \n",
    "    print(\"Terminated after {0} iterations with last update {1}.\".format(i, update))\n",
    "    return r"
   ]
  },
  {
   "cell_type": "code",
   "execution_count": 5,
   "id": "7566e25e",
   "metadata": {},
   "outputs": [],
   "source": [
    "def vis_gw_plan(img1,pos1,pos2,height2,P,return_img = False, plot_img = True,sub_box=False,img1_given =False):\n",
    "    #Colour img1\n",
    "    nx,ny = np.shape(img1)[:2]\n",
    "    if sub_box:\n",
    "        x_min = int(np.min(pos1[:,0]))\n",
    "        x_max = int(np.max(pos1[:,0]))\n",
    "        y_min = int(np.min(pos1[:,1]))\n",
    "        y_max = int(np.max(pos1[:,1]))\n",
    "    else:\n",
    "        x_min = 0\n",
    "        x_max = nx\n",
    "        y_min = 0\n",
    "        y_max = ny\n",
    "    if img1_given:\n",
    "        img1_col = img1\n",
    "    else:\n",
    "        img1_col = np.zeros((nx, ny, 3))\n",
    "        for i in range(nx):\n",
    "            for j in range(ny):\n",
    "                if img1[i, j] != 0:\n",
    "                    col = [1, (i - x_min) / (x_max - x_min), (j - y_min) / (y_max - y_min)]\n",
    "                    img1_col[i, j] = col\n",
    "\n",
    "    #Calculate colours in img2 according to P\n",
    "    n_pts1 = len(pos1)\n",
    "    n_pts2 = len(pos2)\n",
    "    counts = np.zeros(n_pts2)\n",
    "    cols = np.zeros((n_pts2,3))\n",
    "    for j in range(n_pts2):\n",
    "        if height2[j] > 0:\n",
    "            for i in range(n_pts1):\n",
    "                if P[i,j] > 0:\n",
    "                    counts[j] += 1\n",
    "                    x,y = pos1[i]\n",
    "                    cols[j] += P[i,j]/height2[j] * img1_col[x,y]\n",
    "        cols[j] = cols[j] #/ height2[j]\n",
    "        \n",
    "    #Colour img2\n",
    "    img2_col = np.zeros((nx,ny,3))\n",
    "    for i in range(n_pts2):\n",
    "        x,y = pos2[i]\n",
    "        img2_col[x,y] = cols[i]\n",
    "\n",
    "    #Plot\n",
    "    if plot_img:\n",
    "        fig, ax = plt.subplots(1,2,figsize = (10,20))\n",
    "        ax[0].imshow(img1_col)\n",
    "        ax[1].imshow(img2_col)\n",
    "        plt.show()\n",
    "    if return_img:\n",
    "        return img1_col.clip(min=0,max=1),img2_col.clip(min=0,max=1)"
   ]
  },
  {
   "cell_type": "code",
   "execution_count": 6,
   "id": "7e232427",
   "metadata": {},
   "outputs": [],
   "source": [
    "def mm_from_img(img,metric=\"euclidean\",norm_grid = True, norm_meas=True):\n",
    "    assert img.ndim == 2, \"img needs to be 2d array\"\n",
    "    supp = np.dstack(np.where(img > 0))[0]\n",
    "    height = img[supp[:,0],supp[:,1]]\n",
    "    if norm_grid:\n",
    "        unit_length = np.linalg.norm(np.shape(img) - np.array([1,1]))\n",
    "        supp = supp / unit_length\n",
    "    if norm_meas:\n",
    "        height /= np.sum(height)\n",
    "    #if normalize_\n",
    "    M = ot.dist(supp,supp,metric=metric)\n",
    "    return [supp,M,height]"
   ]
  },
  {
   "cell_type": "code",
   "execution_count": 7,
   "id": "6b5a66b9",
   "metadata": {},
   "outputs": [],
   "source": [
    "camels = [np.loadtxt(\"camel_0\"),np.loadtxt(\"camel_1\")]\n",
    "c_camels = [np.load(\"c_camel_0.npy\"),np.load(\"c_camel_1.npy\")]\n",
    "L = [np.load(\"L_camel_0.npy\"),np.load(\"L_camel_1.npy\")]"
   ]
  },
  {
   "cell_type": "code",
   "execution_count": 8,
   "id": "35c10051",
   "metadata": {},
   "outputs": [],
   "source": [
    "mms = [mm_from_img(camels[i],norm_grid=False) for i in range(2)]"
   ]
  },
  {
   "cell_type": "code",
   "execution_count": 9,
   "id": "dd82885c",
   "metadata": {},
   "outputs": [
    {
     "data": {
      "image/png": "[encoded data removed]",
      "text/plain": [
       "<Figure size 360x360 with 4 Axes>"
      ]
     },
     "metadata": {
      "needs_background": "light"
     },
     "output_type": "display_data"
    }
   ],
   "source": [
    "#plot labeled images\n",
    "fig, ax = plt.subplots(2,2,figsize=(5,5))\n",
    "for i in range(2):\n",
    "    ax[0,i].imshow(camels[i])\n",
    "    ax[0,i].axis(\"off\")\n",
    "    ax[1,i].imshow(c_camels[i])\n",
    "    ax[1,i].axis(\"off\")\n",
    "plt.tight_layout()\n",
    "plt.show()"
   ]
  },
  {
   "cell_type": "code",
   "execution_count": 10,
   "id": "69a84554",
   "metadata": {},
   "outputs": [],
   "source": [
    "pix = 64"
   ]
  },
  {
   "cell_type": "code",
   "execution_count": 11,
   "id": "e19fbc3c",
   "metadata": {},
   "outputs": [
    {
     "name": "stdout",
     "output_type": "stream",
     "text": [
      "(4096, 4096)\n"
     ]
    }
   ],
   "source": [
    "#Fix mm-space of barycenter as grid (64,64)\n",
    "Y,M_Y,mu_Y = mm_from_img(np.ones((pix,pix)),norm_grid=False)\n",
    "max_dist = np.linalg.norm([pix-1,pix-1]) #maximum distance in grid\n",
    "print(np.shape(M_Y))"
   ]
  },
  {
   "cell_type": "code",
   "execution_count": 12,
   "id": "770c28c2",
   "metadata": {},
   "outputs": [],
   "source": [
    "#Create labelspace of size 4 [0,1,2,3]\n",
    "labels_Y = [np.ones(len(Y))*i for i in range(4)]"
   ]
  },
  {
   "cell_type": "code",
   "execution_count": 13,
   "id": "c896dbf8",
   "metadata": {},
   "outputs": [
    {
     "data": {
      "image/png": "[encoded data removed]",
      "text/plain": [
       "<Figure size 432x288 with 1 Axes>"
      ]
     },
     "metadata": {
      "needs_background": "light"
     },
     "output_type": "display_data"
    }
   ],
   "source": [
    "#label_dists (squared euclidean distances)\n",
    "label_dists = np.zeros((4,4))\n",
    "label_dists[0,1] = 1\n",
    "label_dists[0,2] = 4\n",
    "label_dists[0,3] = 1\n",
    "label_dists[1,2] = 1\n",
    "label_dists[1,3] = 4\n",
    "label_dists[2,3] = 1\n",
    "label_dists += label_dists.T\n",
    "\n",
    "plt.imshow(label_dists)\n",
    "plt.axis(\"off\")\n",
    "plt.show()"
   ]
  },
  {
   "cell_type": "code",
   "execution_count": 14,
   "id": "40e175b7",
   "metadata": {},
   "outputs": [],
   "source": [
    "#OT costs from mm[0] to Y x A (saved as (4,len(mm[0],4096) matrix)\n",
    "ot_cost_1 = [np.zeros((len(mms[0][0]),len(Y))) for l in range(4)]\n",
    "for l in range(4):\n",
    "    for i in range(len(mms[0][0])):\n",
    "        for j in range(len(Y)):\n",
    "            ot_cost_1[l][i,j] = label_dists[L[0][i],int(labels_Y[l][j])]\n",
    "ot_cost_1 = np.array(ot_cost_1)"
   ]
  },
  {
   "cell_type": "code",
   "execution_count": 15,
   "id": "63158895",
   "metadata": {},
   "outputs": [],
   "source": [
    "#OT costs from Y x A to mm[1]\n",
    "ot_cost_2 = [np.zeros((len(Y),len(mms[1][0]))) for l in range(4)]\n",
    "for l in range(4):\n",
    "    for j in range(len(Y)):\n",
    "        for i in range(len(mms[1][0])):\n",
    "            ot_cost_2[l][j,i] = label_dists[L[1][i],int(labels_Y[l][j])]\n",
    "ot_cost_2 = np.array(ot_cost_2)"
   ]
  },
  {
   "cell_type": "code",
   "execution_count": 16,
   "id": "352fb318",
   "metadata": {},
   "outputs": [],
   "source": [
    "#normalize\n",
    "ot_cost_1 /= 4\n",
    "ot_cost_2 /= 4"
   ]
  },
  {
   "cell_type": "code",
   "execution_count": 17,
   "id": "7014fccd",
   "metadata": {},
   "outputs": [],
   "source": [
    "#function to initialize a tree (mm[0] <-> Y <-> mm[1]) with the respective paremeters \n",
    "def create_tree(t,rho):\n",
    "    r = anytree.AnyNode(id=0)\n",
    "    n1 = anytree.AnyNode(id=1,parent=r)\n",
    "    n2 = anytree.AnyNode(id=2,parent=n1)\n",
    "\n",
    "    r.t = None\n",
    "    n1.t = t\n",
    "    n2.t = 1-t\n",
    "\n",
    "    forward = [node for node in anytree.PreOrderIter(r)]\n",
    "\n",
    "    r.mu = mms[0][2]\n",
    "    r.M = mms[0][1] / max_dist\n",
    "    r.pi = None\n",
    "    r.cost = None\n",
    "    r.rho = rho\n",
    "    r.n_labels = 4\n",
    "\n",
    "    #barycenter\n",
    "    n1.rho = 0\n",
    "    n1.M = M_Y / max_dist\n",
    "    n1.n_labels = 4\n",
    "    n1.ot_cost = ot_cost_1\n",
    "\n",
    "    n2.mu = mms[1][2]\n",
    "    n2.M = mms[1][1] / max_dist\n",
    "    n2.rho = rho\n",
    "    n2.ot_cost = ot_cost_2\n",
    "    n2.n_labels = 4\n",
    "    return r"
   ]
  },
  {
   "cell_type": "code",
   "execution_count": 18,
   "id": "eddf78eb",
   "metadata": {
    "scrolled": true
   },
   "outputs": [
    {
     "name": "stdout",
     "output_type": "stream",
     "text": [
      "Terminated after 36 iterations with last update 4.73939072089954e-06.\n"
     ]
    }
   ],
   "source": [
    "#GW\n",
    "rho = np.inf\n",
    "alph = 1\n",
    "t = 0.5\n",
    "r = create_tree(t,rho)\n",
    "result = MUGW_fused2(r,eps= 0.00007,rho=None,alph=alph,plan_cvgce_thres=1e-5,max_iter = 10000,sink_cvgce_thres=1e-6,n_its_check_cvgce=5,n_its = 100,img1 = camels[0], img2 = camels[1],plot_intermediate=False)\n",
    "tmps = [np.sum(r.children[0].pi[l],axis=0).reshape((64,64)) for l in range(4)]\n",
    "gw_plans_2 = [r.children[0].pi,r.children[0].children[0].pi]\n",
    "gw_barys_2 = tmps"
   ]
  },
  {
   "cell_type": "code",
   "execution_count": 19,
   "id": "6073ca2f",
   "metadata": {
    "scrolled": true
   },
   "outputs": [
    {
     "name": "stdout",
     "output_type": "stream",
     "text": [
      "Terminated after 31 iterations with last update 9.845437343972477e-06.\n"
     ]
    }
   ],
   "source": [
    "#FGW\n",
    "rho = np.inf\n",
    "alph = 1/2\n",
    "t = 0.5\n",
    "r = create_tree(t,rho)\n",
    "result = MUGW_fused2(r,eps= 0.00007,rho=None,alph=alph,plan_cvgce_thres=1e-5,max_iter = 2000,sink_cvgce_thres=1e-6,n_its_check_cvgce=5,n_its = 100,img1 = camels[0], img2 = camels[1],plot_intermediate=False)\n",
    "tmps = [np.sum(r.children[0].pi[l],axis=0).reshape((64,64)) for l in range(4)]\n",
    "fgw_plans_2 = [r.children[0].pi,r.children[0].children[0].pi]\n",
    "fgw_barys_2 = tmps"
   ]
  },
  {
   "cell_type": "code",
   "execution_count": 20,
   "id": "4c6b301e",
   "metadata": {
    "scrolled": true
   },
   "outputs": [
    {
     "name": "stdout",
     "output_type": "stream",
     "text": [
      "Terminated after 36 iterations with last update 1.5441877724736198e-06.\n"
     ]
    }
   ],
   "source": [
    "#UFGW\n",
    "rho = 0.01\n",
    "alph = 1/2\n",
    "t = 0.5\n",
    "r = create_tree(t,rho)\n",
    "result = MUGW_fused2(r,eps= 0.00007,rho=None,alph=alph,plan_cvgce_thres=1e-5,max_iter = 1000,sink_cvgce_thres=1e-6,n_its_check_cvgce=5,n_its = 100,img1 = camels[0], img2 = camels[1],plot_intermediate=False)\n",
    "tmps = [np.sum(r.children[0].pi[l],axis=0).reshape((64,64)) for l in range(4)]\n",
    "ufgw_plans_2 = [r.children[0].pi,r.children[0].children[0].pi]\n",
    "ufgw_barys_2 = tmps"
   ]
  },
  {
   "cell_type": "code",
   "execution_count": 21,
   "id": "8b4e15ef",
   "metadata": {},
   "outputs": [
    {
     "name": "stdout",
     "output_type": "stream",
     "text": [
      "Terminated after 46 iterations with last update 5.288114366572169e-06.\n"
     ]
    }
   ],
   "source": [
    "#UGW\n",
    "rho = 0.01\n",
    "alph = 1\n",
    "t = 0.5\n",
    "r = create_tree(t,rho)\n",
    "result = MUGW_fused2(r,eps= 0.00007,rho=None,alph=alph,plan_cvgce_thres=1e-5,max_iter = 10000,sink_cvgce_thres=1e-6,n_its_check_cvgce=5,n_its = 100,img1 = camels[0], img2 = camels[1],plot_intermediate=False)\n",
    "tmps = [np.sum(r.children[0].pi[l],axis=0).reshape((64,64)) for l in range(4)]\n",
    "ugw_plans_2 = [r.children[0].pi,r.children[0].children[0].pi]\n",
    "ugw_barys_2 = tmps"
   ]
  },
  {
   "cell_type": "code",
   "execution_count": 22,
   "id": "e151f491",
   "metadata": {},
   "outputs": [],
   "source": [
    "tmp_img,bary_col_gw_1 = vis_gw_plan(c_camels[0],mms[0][0],Y,np.sum(gw_barys_2,axis=0).flatten(),np.sum(gw_plans_2[0],axis=0),return_img=True,plot_img=False,sub_box=True,img1_given =True)\n",
    "tmp_img2,bary_col_gw_2 = vis_gw_plan(c_camels[1],mms[1][0],Y,np.sum(gw_barys_2,axis=0).flatten(),np.sum(gw_plans_2[1],axis=0).T,return_img=True,plot_img=False,sub_box=True,img1_given =True)\n",
    "\n",
    "tmp_img,bary_col_ugw_1 = vis_gw_plan(c_camels[0],mms[0][0],Y,np.sum(ugw_barys_2,axis=0).flatten(),np.sum(ugw_plans_2[0],axis=0),return_img=True,plot_img=False,sub_box=True,img1_given =True)\n",
    "tmp_img2,bary_col_ugw_2 = vis_gw_plan(c_camels[1],mms[1][0],Y,np.sum(ugw_barys_2,axis=0).flatten(),np.sum(ugw_plans_2[1],axis=0).T,return_img=True,plot_img=False,sub_box=True,img1_given =True)\n",
    "\n",
    "tmp_img,bary_col_fgw_1 = vis_gw_plan(c_camels[0],mms[0][0],Y,np.sum(fgw_barys_2,axis=0).flatten(),np.sum(fgw_plans_2[0],axis=0),return_img=True,plot_img=False,sub_box=True,img1_given =True)\n",
    "tmp_img2,bary_col_fgw_2 = vis_gw_plan(c_camels[1],mms[1][0],Y,np.sum(fgw_barys_2,axis=0).flatten(),np.sum(fgw_plans_2[1],axis=0).T,return_img=True,plot_img=False,sub_box=True,img1_given =True)\n",
    "\n",
    "tmp_img,bary_col_ufgw_1 = vis_gw_plan(c_camels[0],mms[0][0],Y,np.sum(ufgw_barys_2,axis=0).flatten(),np.sum(ufgw_plans_2[0],axis=0),return_img=True,plot_img=False,sub_box=True,img1_given =True)\n",
    "tmp_img2,bary_col_ufgw_2 = vis_gw_plan(c_camels[1],mms[1][0],Y,np.sum(ufgw_barys_2,axis=0).flatten(),np.sum(ufgw_plans_2[1],axis=0).T,return_img=True,plot_img=False,sub_box=True,img1_given =True)"
   ]
  },
  {
   "cell_type": "code",
   "execution_count": 23,
   "id": "edf6b25d",
   "metadata": {},
   "outputs": [],
   "source": [
    "bary_col_gw = np.mean([bary_col_gw_1,bary_col_gw_2],axis=0)\n",
    "bary_col_gw[np.sum(gw_barys_2,axis=0) < 0.0004] = [0,0,0] \n",
    "\n",
    "bary_col_fgw = np.mean([bary_col_fgw_1,bary_col_fgw_2],axis=0)\n",
    "bary_col_fgw[np.sum(fgw_barys_2,axis=0) < 0.0004] = [0,0,0] \n",
    "\n",
    "bary_col_ugw = np.mean([bary_col_ugw_1,bary_col_ugw_2],axis=0)\n",
    "bary_col_ugw[np.sum(ugw_barys_2,axis=0) < 0.0004] = [0,0,0] \n",
    "\n",
    "bary_col_ufgw = np.mean([bary_col_ufgw_1,bary_col_ufgw_2],axis=0)\n",
    "bary_col_ufgw[np.sum(ufgw_barys_2,axis=0) < 0.0004] = [0,0,0] "
   ]
  },
  {
   "cell_type": "code",
   "execution_count": 24,
   "id": "b0ff0ad8",
   "metadata": {},
   "outputs": [
    {
     "data": {
      "image/png": "[encoded data removed]",
      "text/plain": [
       "<Figure size 2160x864 with 18 Axes>"
      ]
     },
     "metadata": {
      "needs_background": "light"
     },
     "output_type": "display_data"
    }
   ],
   "source": [
    "fig, ax = plt.subplots(2,6,figsize=(30,12))\n",
    "\n",
    "labelsize = 25\n",
    "\n",
    "for i in range(2):\n",
    "    im = ax[0,i].imshow(camels[i]/np.sum(camels[i]))\n",
    "    ax[0,i].axis(\"off\")\n",
    "    \n",
    "    ticks = (np.arange(5)/4)*np.max(camels[i]/np.sum(camels[i]))\n",
    "    cb = plt.colorbar(im,ax=ax[0,i],orientation=\"horizontal\",location=\"top\",ticks = ticks,format=\"%.3f\")\n",
    "    cb.ax.tick_params(labelsize=labelsize,labelrotation = 90)\n",
    "    \n",
    "    ax[1,i].imshow(c_camels[i])\n",
    "    ax[1,i].axis(\"off\")\n",
    "\n",
    "barys = [np.sum(gw_barys_2,axis=0),np.sum(ugw_barys_2,axis=0),np.sum(fgw_barys_2,axis=0),np.sum(ufgw_barys_2,axis=0)]\n",
    "barys_col = [bary_col_gw,bary_col_ugw,bary_col_fgw,bary_col_ufgw]\n",
    "for i in range(2,6):\n",
    "    im =ax[0,i].imshow(barys[i-2])\n",
    "    ax[0,i].axis(\"off\")\n",
    "    \n",
    "    ticks = (np.arange(5)/4)*np.max(barys[i-2])\n",
    "    cb = plt.colorbar(im,ax=ax[0,i],orientation=\"horizontal\",location=\"top\",ticks = ticks,format=\"%.3f\")\n",
    "    cb.ax.tick_params(labelsize=labelsize,labelrotation = 90)\n",
    "    \n",
    "    ax[1,i].imshow(barys_col[i-2])\n",
    "    ax[1,i].axis(\"off\")\n",
    "\n",
    "plt.tight_layout()\n",
    "plt.show()\n"
   ]
  }
 ],
 "metadata": {
  "kernelspec": {
   "display_name": "Python 3 (ipykernel)",
   "language": "python",
   "name": "python3"
  },
  "language_info": {
   "codemirror_mode": {
    "name": "ipython",
    "version": 3
   },
   "file_extension": ".py",
   "mimetype": "text/x-python",
   "name": "python",
   "nbconvert_exporter": "python",
   "pygments_lexer": "ipython3",
   "version": "3.8.8"
  }
 },
 "nbformat": 4,
 "nbformat_minor": 5
}
