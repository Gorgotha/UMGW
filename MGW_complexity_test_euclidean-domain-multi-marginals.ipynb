{
 "cells": [
  {
   "cell_type": "code",
   "execution_count": 1,
   "id": "e0a69cb4",
   "metadata": {},
   "outputs": [],
   "source": [
    "import numpy as np\n",
    "import matplotlib.pyplot as plt\n",
    "import matplotlib as mpl\n",
    "import torch\n",
    "import ot\n",
    "from tqdm.notebook import trange\n",
    "import time\n",
    "import anytree\n",
    "from sklearn.manifold import MDS\n",
    "from scipy.spatial.distance import squareform, pdist\n",
    "import seaborn as sns\n",
    "\n",
    "import umgw\n",
    "np.set_printoptions(suppress=True, precision=5)\n",
    "import cv2\n",
    "\n",
    "#from importlib import reload"
   ]
  },
  {
   "cell_type": "code",
   "execution_count": 2,
   "id": "b273c6ed",
   "metadata": {},
   "outputs": [],
   "source": [
    "def img2atomic(img):\n",
    "    '''\n",
    "    Creates a discrete measure from an image.\n",
    "    '''\n",
    "    assert img.ndim == 2, \"img needs to be 2d array\"\n",
    "    x, y = img.shape\n",
    "    pts = torch.stack([grid.flatten() for grid in torch.meshgrid(torch.arange(x), y-torch.arange(y))], axis=1)\n",
    "    return pts[img.flatten() > 0], img.flatten()[img.flatten() > 0]"
   ]
  },
  {
   "cell_type": "code",
   "execution_count": 3,
   "id": "e62d78e1",
   "metadata": {},
   "outputs": [],
   "source": [
    "def entropic_gromov_wasserstein(C1, C2, p, q, loss_fun, epsilon,\n",
    "                                max_iter=1000, tol=1e-9, verbose=False, log=False):\n",
    "    r\"\"\"\n",
    "    <Altered version of the original implementation taken from: https://pythonot.github.io>\n",
    "\n",
    "    Returns the gromov-wasserstein transport between :math:`(\\mathbf{C_1}, \\mathbf{p})` and :math:`(\\mathbf{C_2}, \\mathbf{q})`\n",
    "\n",
    "    The function solves the following optimization problem:\n",
    "\n",
    "    .. math::\n",
    "        \\mathbf{GW} = \\mathop{\\arg\\min}_\\mathbf{T} \\quad \\sum_{i,j,k,l} L(\\mathbf{C_1}_{i,k}, \\mathbf{C_2}_{j,l}) \\mathbf{T}_{i,j} \\mathbf{T}_{k,l} - \\epsilon(H(\\mathbf{T}))\n",
    "\n",
    "        s.t. \\ \\mathbf{T} \\mathbf{1} &= \\mathbf{p}\n",
    "\n",
    "             \\mathbf{T}^T \\mathbf{1} &= \\mathbf{q}\n",
    "\n",
    "             \\mathbf{T} &\\geq 0\n",
    "\n",
    "    Where :\n",
    "\n",
    "    - :math:`\\mathbf{C_1}`: Metric cost matrix in the source space\n",
    "    - :math:`\\mathbf{C_2}`: Metric cost matrix in the target space\n",
    "    - :math:`\\mathbf{p}`: distribution in the source space\n",
    "    - :math:`\\mathbf{q}`: distribution in the target space\n",
    "    - `L`: loss function to account for the misfit between the similarity matrices\n",
    "    - `H`: entropy\n",
    "\n",
    "    Parameters\n",
    "    ----------\n",
    "    C1 : array-like, shape (ns, ns)\n",
    "        Metric cost matrix in the source space\n",
    "    C2 : array-like, shape (nt, nt)\n",
    "        Metric cost matrix in the target space\n",
    "    p :  array-like, shape (ns,)\n",
    "        Distribution in the source space\n",
    "    q :  array-like, shape (nt,)\n",
    "        Distribution in the target space\n",
    "    loss_fun :  string\n",
    "        Loss function used for the solver either 'square_loss' or 'kl_loss'\n",
    "    epsilon : float\n",
    "        Regularization term >0\n",
    "    max_iter : int, optional\n",
    "        Max number of iterations\n",
    "    tol : float, optional\n",
    "        Stop threshold on error (>0)\n",
    "    verbose : bool, optional\n",
    "        Print information along iterations\n",
    "    log : bool, optional\n",
    "        Record log if True.\n",
    "\n",
    "    Returns\n",
    "    -------\n",
    "    T : array-like, shape (`ns`, `nt`)\n",
    "        Optimal coupling between the two spaces\n",
    "\n",
    "    References\n",
    "    ----------\n",
    "    .. [12] Gabriel Peyré, Marco Cuturi, and Justin Solomon,\n",
    "        \"Gromov-Wasserstein averaging of kernel and distance matrices.\"\n",
    "        International Conference on Machine Learning (ICML). 2016.\n",
    "\n",
    "    \"\"\"\n",
    "    T = torch.outer(p, q)\n",
    "\n",
    "    constC, hC1, hC2 = ot.gromov.init_matrix(C1, C2, p, q, loss_fun)\n",
    "\n",
    "    cpt = 0\n",
    "    err = 1\n",
    "\n",
    "    if log:\n",
    "        log = {'err': []}\n",
    "\n",
    "    while (err > tol and cpt < max_iter):\n",
    "\n",
    "        Tprev = T\n",
    "\n",
    "        # compute the gradient\n",
    "        tens = ot.gromov.gwggrad(constC, hC1, hC2, T)\n",
    "\n",
    "        T = ot.sinkhorn(p, q, tens, epsilon, method='sinkhorn',stopThr=1e-6,numItermax=100)\n",
    "\n",
    "        if cpt % 10 == 0:\n",
    "            # we can speed up the process by checking for the error only all\n",
    "            # the 10th iterations\n",
    "            err = torch.norm(T - Tprev)\n",
    "\n",
    "            if log:\n",
    "                log['err'].append(err)\n",
    "\n",
    "            if verbose:\n",
    "                if cpt % 200 == 0:\n",
    "                    print('{:5s}|{:12s}'.format(\n",
    "                        'It.', 'Err') + '\\n' + '-' * 19)\n",
    "                print('{:5d}|{:8e}|'.format(cpt, err))\n",
    "\n",
    "        cpt += 1\n",
    "\n",
    "    if log:\n",
    "        log['gw_dist'] = ot.gromov.gwloss(constC, hC1, hC2, T)\n",
    "        return T, log\n",
    "    else:\n",
    "        return T"
   ]
  },
  {
   "cell_type": "code",
   "execution_count": 4,
   "id": "01f0d6db",
   "metadata": {},
   "outputs": [],
   "source": [
    "def entropic_gromov_barycenters(N, Cs, ps, p, lambdas, loss_fun, epsilon, symmetric=True,\n",
    "                                max_iter=1000, tol=1e-9, verbose=False, log=False, init_C=None, random_state=None,max_time=np.inf):\n",
    "    r\"\"\"\n",
    "    <Altered version of the original implementation taken from: https://pythonot.github.io>\n",
    "\n",
    "    Returns the gromov-wasserstein barycenters of `S` measured similarity matrices :math:`(\\mathbf{C}_s)_{1 \\leq s \\leq S}`\n",
    "\n",
    "    The function solves the following optimization problem:\n",
    "\n",
    "    .. math::\n",
    "\n",
    "        \\mathbf{C} = \\mathop{\\arg \\min}_{\\mathbf{C}\\in \\mathbb{R}^{N \\times N}} \\quad \\sum_s \\lambda_s \\mathrm{GW}(\\mathbf{C}, \\mathbf{C}_s, \\mathbf{p}, \\mathbf{p}_s)\n",
    "\n",
    "    Where :\n",
    "\n",
    "    - :math:`\\mathbf{C}_s`: metric cost matrix\n",
    "    - :math:`\\mathbf{p}_s`: distribution\n",
    "\n",
    "    Parameters\n",
    "    ----------\n",
    "    N : int\n",
    "        Size of the targeted barycenter\n",
    "    Cs : list of S array-like of shape (ns,ns)\n",
    "        Metric cost matrices\n",
    "    ps : list of S array-like of shape (ns,)\n",
    "        Sample weights in the `S` spaces\n",
    "    p : array-like, shape(N,)\n",
    "        Weights in the targeted barycenter\n",
    "    lambdas : list of float\n",
    "        List of the `S` spaces' weights.\n",
    "    loss_fun : callable\n",
    "        Tensor-matrix multiplication function based on specific loss function.\n",
    "    update : callable\n",
    "        function(:math:`\\mathbf{p}`, lambdas, :math:`\\mathbf{T}`, :math:`\\mathbf{Cs}`) that updates\n",
    "        :math:`\\mathbf{C}` according to a specific Kernel with the `S` :math:`\\mathbf{T}_s` couplings\n",
    "        calculated at each iteration\n",
    "    epsilon : float\n",
    "        Regularization term >0\n",
    "    symmetric : bool, optional.\n",
    "        Either structures are to be assumed symmetric or not. Default value is True.\n",
    "        Else if set to True (resp. False), C1 and C2 will be assumed symmetric (resp. asymmetric).\n",
    "    max_iter : int, optional\n",
    "        Max number of iterations\n",
    "    tol : float, optional\n",
    "        Stop threshold on error (>0)\n",
    "    verbose : bool, optional\n",
    "        Print information along iterations.\n",
    "    log : bool, optional\n",
    "        Record log if True.\n",
    "    init_C : bool | array-like, shape (N, N)\n",
    "        Random initial value for the :math:`\\mathbf{C}` matrix provided by user.\n",
    "    random_state : int or RandomState instance, optional\n",
    "        Fix the seed for reproducibility\n",
    "\n",
    "    Returns\n",
    "    -------\n",
    "    C : array-like, shape (`N`, `N`)\n",
    "        Similarity matrix in the barycenter space (permutated arbitrarily)\n",
    "    log : dict\n",
    "        Log dictionary of error during iterations. Return only if `log=True` in parameters.\n",
    "\n",
    "    References\n",
    "    ----------\n",
    "    .. [12] Gabriel Peyré, Marco Cuturi, and Justin Solomon,\n",
    "        \"Gromov-Wasserstein averaging of kernel and distance matrices.\"\n",
    "        International Conference on Machine Learning (ICML). 2016.\n",
    "    \"\"\"\n",
    "    times = []\n",
    "    outs = []\n",
    "    Ts = []\n",
    "    st = time.time()\n",
    "    \n",
    "    S = len(Cs)\n",
    "\n",
    "    # Initialization of C : random SPD matrix (if not provided by user)\n",
    "    if init_C is None:\n",
    "        generator = ot.utils.check_random_state(random_state)\n",
    "        xalea = generator.randn(N, 2)\n",
    "        C = ot.dist(xalea, xalea)\n",
    "        C /= C.max()\n",
    "        C = torch.from_numpy(C)\n",
    "    else:\n",
    "        C = init_C\n",
    "\n",
    "    times.append(time.time() - st)\n",
    "    outs.append(C)\n",
    "    \n",
    "    cpt = 0\n",
    "    err = 1\n",
    "\n",
    "    error = []\n",
    "\n",
    "    while(time.time()-st < max_time):#while (err > tol) and (cpt < max_iter):\n",
    "        Cprev = C\n",
    "        ress = [ot.gromov.entropic_gromov_wasserstein(Cs[s], C, ps[s], p, loss_fun, epsilon=epsilon, #symmetric=symmetric,\n",
    "                                         max_iter=max_iter, tol=1e-4, verbose=verbose, log=True) for s in range(S)]\n",
    "        T = [res[0] for res in ress]\n",
    "        #T = [ot.gromov.entropic_gromov_wasserstein(Cs[s], C, ps[s], p, loss_fun, epsilon=epsilon, #symmetric=symmetric,\n",
    "        #                                 max_iter=max_iter, tol=1e-4, verbose=verbose, log=False) for s in range(S)]\n",
    "        Ts.append(T)\n",
    "        if loss_fun == 'square_loss':\n",
    "            C = ot.gromov.update_square_loss(p, lambdas, T, Cs)\n",
    "\n",
    "        elif loss_fun == 'kl_loss':\n",
    "            C = ot.gromov.update_kl_loss(p, lambdas, T, Cs)\n",
    "\n",
    "        times.append(time.time() - st)\n",
    "        outs.append(C)\n",
    "        \n",
    "        if cpt % 10 == 0:\n",
    "            # we can speed up the process by checking for the error only all\n",
    "            # the 10th iterations\n",
    "            err = torch.norm(C - Cprev)\n",
    "            error.append(err)\n",
    "\n",
    "            if verbose:\n",
    "                if cpt % 200 == 0:\n",
    "                    print('{:5s}|{:12s}'.format(\n",
    "                        'It.', 'Err') + '\\n' + '-' * 19)\n",
    "                print('{:5d}|{:8e}|'.format(cpt, err))\n",
    "\n",
    "        cpt += 1\n",
    "\n",
    "    T = [ot.gromov.entropic_gromov_wasserstein(Cs[s], C, ps[s], p, loss_fun, epsilon=epsilon, #symmetric=symmetric,\n",
    "                                         max_iter=max_iter, tol=1e-4, verbose=verbose, log=False) for s in range(S)]\n",
    "    Ts.append(T)\n",
    "    return outs,Ts,times"
   ]
  },
  {
   "cell_type": "code",
   "execution_count": 5,
   "id": "5eedd675",
   "metadata": {},
   "outputs": [],
   "source": [
    "def gromov_barycenters(N, Cs, ps, p, lambdas, loss_fun,\n",
    "                       max_iter=1000, tol=1e-9, verbose=False, log=False, init_C=None, random_state=None,max_time=np.inf):\n",
    "    r\"\"\"\n",
    "    <Altered version of the original implementation taken from: https://pythonot.github.io>\n",
    "\n",
    "    Returns the gromov-wasserstein barycenters of `S` measured similarity matrices :math:`(\\mathbf{C}_s)_{1 \\leq s \\leq S}`\n",
    "\n",
    "    The function solves the following optimization problem with block coordinate descent:\n",
    "\n",
    "    .. math::\n",
    "\n",
    "        \\mathbf{C} = \\mathop{\\arg \\min}_{\\mathbf{C}\\in \\mathbb{R}^{N \\times N}} \\quad \\sum_s \\lambda_s \\mathrm{GW}(\\mathbf{C}, \\mathbf{C}_s, \\mathbf{p}, \\mathbf{p}_s)\n",
    "\n",
    "    Where :\n",
    "\n",
    "    - :math:`\\mathbf{C}_s`: metric cost matrix\n",
    "    - :math:`\\mathbf{p}_s`: distribution\n",
    "\n",
    "    Parameters\n",
    "    ----------\n",
    "    N : int\n",
    "        Size of the targeted barycenter\n",
    "    Cs : list of S array-like of shape (ns, ns)\n",
    "        Metric cost matrices\n",
    "    ps : list of S array-like of shape (ns,)\n",
    "        Sample weights in the `S` spaces\n",
    "    p : array-like, shape (N,)\n",
    "        Weights in the targeted barycenter\n",
    "    lambdas : list of float\n",
    "        List of the `S` spaces' weights\n",
    "    loss_fun : callable\n",
    "        tensor-matrix multiplication function based on specific loss function\n",
    "    update : callable\n",
    "        function(:math:`\\mathbf{p}`, lambdas, :math:`\\mathbf{T}`, :math:`\\mathbf{Cs}`) that updates\n",
    "        :math:`\\mathbf{C}` according to a specific Kernel with the `S` :math:`\\mathbf{T}_s` couplings\n",
    "        calculated at each iteration\n",
    "    max_iter : int, optional\n",
    "        Max number of iterations\n",
    "    tol : float, optional\n",
    "        Stop threshold on error (>0).\n",
    "    verbose : bool, optional\n",
    "        Print information along iterations.\n",
    "    log : bool, optional\n",
    "        Record log if True.\n",
    "    init_C : bool | array-like, shape(N,N)\n",
    "        Random initial value for the :math:`\\mathbf{C}` matrix provided by user.\n",
    "    random_state : int or RandomState instance, optional\n",
    "        Fix the seed for reproducibility\n",
    "\n",
    "    Returns\n",
    "    -------\n",
    "    C : array-like, shape (`N`, `N`)\n",
    "        Similarity matrix in the barycenter space (permutated arbitrarily)\n",
    "    log : dict\n",
    "        Log dictionary of error during iterations. Return only if `log=True` in parameters.\n",
    "\n",
    "    References\n",
    "    ----------\n",
    "    .. [12] Gabriel Peyré, Marco Cuturi, and Justin Solomon,\n",
    "        \"Gromov-Wasserstein averaging of kernel and distance matrices.\"\n",
    "        International Conference on Machine Learning (ICML). 2016.\n",
    "\n",
    "    \"\"\"\n",
    "    times = []\n",
    "    outs = []\n",
    "    Ts = []\n",
    "    st = time.time()\n",
    "\n",
    "    S = len(Cs)\n",
    "\n",
    "    # Initialization of C : random SPD matrix (if not provided by user)\n",
    "    if init_C is None:\n",
    "        generator = ot.utils.check_random_state(random_state)\n",
    "        xalea = generator.randn(N, 2)\n",
    "        C = ot.dist(xalea, xalea)\n",
    "        C /= C.max()\n",
    "        C = torch.from_numpy(C)\n",
    "    else:\n",
    "        C = init_C\n",
    "    \n",
    "    times.append(time.time() - st)\n",
    "    outs.append(C)\n",
    "    \n",
    "    cpt = 0\n",
    "    err = 1\n",
    "\n",
    "    error = []\n",
    "\n",
    "    while(time.time()-st < max_time):#(err > tol and cpt < max_iter):\n",
    "        Cprev = C\n",
    "\n",
    "        T = [ot.gromov.gromov_wasserstein(Cs[s], C, ps[s], p, loss_fun,\n",
    "                                numItermax=max_iter, stopThr=1e-5, verbose=verbose, log=False,) for s in range(S)]#**{\"numItermaxEmd\" : 500000}\n",
    "        Ts.append(T)\n",
    "        if loss_fun == 'square_loss':\n",
    "            C = ot.gromov.update_square_loss(p, lambdas, T, Cs)\n",
    "\n",
    "        elif loss_fun == 'kl_loss':\n",
    "            C = ot.gromov.update_kl_loss(p, lambdas, T, Cs)\n",
    "\n",
    "        times.append(time.time() - st)\n",
    "        outs.append(C)\n",
    "        \n",
    "        if cpt % 10 == 0:\n",
    "            # we can speed up the process by checking for the error only all\n",
    "            # the 10th iterations\n",
    "            err = torch.norm(C - Cprev)\n",
    "            error.append(err)\n",
    "\n",
    "            if verbose:\n",
    "                if cpt % 200 == 0:\n",
    "                    print('{:5s}|{:12s}'.format(\n",
    "                        'It.', 'Err') + '\\n' + '-' * 19)\n",
    "                print('{:5d}|{:8e}|'.format(cpt, err))\n",
    "\n",
    "        cpt += 1\n",
    "        #print(\"Iteration {0} done.\".format(cpt))\n",
    "\n",
    "    T = [ot.gromov.gromov_wasserstein(Cs[s], C, ps[s], p, loss_fun,\n",
    "                                numItermax=max_iter, stopThr=1e-5, verbose=verbose, log=False) for s in range(S)]\n",
    "    Ts.append(T)\n",
    "    return outs,Ts,times\n",
    "    if log:\n",
    "        return C, {\"err\": error}\n",
    "    else:\n",
    "        return C"
   ]
  },
  {
   "cell_type": "code",
   "execution_count": 6,
   "id": "b8ae9c08",
   "metadata": {},
   "outputs": [],
   "source": [
    "def gw_bary_loss(Ms,mus,pis,M_Y,nu):\n",
    "    out = 0\n",
    "    for i in range(len(Ms)):\n",
    "        P = pis[i]\n",
    "        mu = mus[i]\n",
    "        M = Ms[i]\n",
    "        constC, hC1, hC2 = ot.gromov.init_matrix(M.double(), M_Y.double(), mu, nu, \"square_loss\")\n",
    "        if np.shape(M)[1] == np.shape(P)[0]: #TODO!!!\n",
    "            l = ot.gromov.gwloss(constC, hC1, hC2, P.double())\n",
    "        else:\n",
    "            l = ot.gromov.gwloss(constC, hC1, hC2, P.T.double())\n",
    "        \n",
    "        out += l\n",
    "    return (1/len(Ms)) * out"
   ]
  },
  {
   "cell_type": "markdown",
   "id": "1f6e19ec",
   "metadata": {},
   "source": [
    "# Load images"
   ]
  },
  {
   "cell_type": "code",
   "execution_count": 12,
   "id": "45c38815",
   "metadata": {},
   "outputs": [
    {
     "data": {
      "image/png": "[encoded data removed]",
      "text/plain": [
       "<Figure size 1440x288 with 5 Axes>"
      ]
     },
     "metadata": {
      "needs_background": "light"
     },
     "output_type": "display_data"
    }
   ],
   "source": [
    "fig,ax = plt.subplots(1,len(ims),figsize=(4*len(ims),4))\n",
    "ims = [np.load(\"./heart_{0}.npy\".format(i)) for i in range(5)]##ims = [[np.loadtxt(\"spade\"),np.loadtxt(\"heart\")]]\n",
    "ims = [im/np.sum(im) for im in ims]\n",
    "for i in range(len(ims)):\n",
    "    ax[i].imshow(ims[i])\n",
    "    ax[i].axis(\"off\")\n",
    "plt.tight_layout()\n",
    "plt.show()"
   ]
  },
  {
   "cell_type": "code",
   "execution_count": 13,
   "id": "6876bff5",
   "metadata": {},
   "outputs": [],
   "source": [
    "np.save(\"./out/multi/inputs\",ims)"
   ]
  },
  {
   "cell_type": "code",
   "execution_count": 12,
   "id": "58fee27a",
   "metadata": {
    "scrolled": true
   },
   "outputs": [
    {
     "data": {
      "image/png": "[encoded data removed]",
      "text/plain": [
       "<Figure size 360x360 with 1 Axes>"
      ]
     },
     "metadata": {
      "needs_background": "light"
     },
     "output_type": "display_data"
    },
    {
     "data": {
      "image/png": "[encoded data removed]",
      "text/plain": [
       "<Figure size 360x360 with 1 Axes>"
      ]
     },
     "metadata": {
      "needs_background": "light"
     },
     "output_type": "display_data"
    },
    {
     "data": {
      "image/png": "[encoded data removed]",
      "text/plain": [
       "<Figure size 360x360 with 1 Axes>"
      ]
     },
     "metadata": {
      "needs_background": "light"
     },
     "output_type": "display_data"
    },
    {
     "data": {
      "image/png": "[encoded data removed]",
      "text/plain": [
       "<Figure size 360x360 with 1 Axes>"
      ]
     },
     "metadata": {
      "needs_background": "light"
     },
     "output_type": "display_data"
    },
    {
     "data": {
      "image/png": "[encoded data removed]",
      "text/plain": [
       "<Figure size 360x360 with 1 Axes>"
      ]
     },
     "metadata": {
      "needs_background": "light"
     },
     "output_type": "display_data"
    }
   ],
   "source": [
    "vmin = 0\n",
    "vmax = max([np.max(im) for im in ims])\n",
    "for i in range(len(ims)):\n",
    "    plt.figure(figsize=(5,5))\n",
    "    plt.imshow(ims[i],vmin=vmin, vmax=vmax)\n",
    "    plt.axis(\"off\")\n",
    "    #plt.savefig(\"out/umgw_multi_input_{0}\".format(i),pad_inches=0.0,bbox_inches=\"tight\")\n",
    "    "
   ]
  },
  {
   "cell_type": "code",
   "execution_count": 13,
   "id": "410cac1d",
   "metadata": {},
   "outputs": [
    {
     "data": {
      "image/png": "[encoded data removed]",
      "text/plain": [
       "<Figure size 720x36 with 1 Axes>"
      ]
     },
     "metadata": {
      "needs_background": "light"
     },
     "output_type": "display_data"
    }
   ],
   "source": [
    "fig, ax = plt.subplots(figsize=(10, 0.5))\n",
    "fig.subplots_adjust(bottom=0.5)\n",
    "\n",
    "cmap = mpl.cm.viridis\n",
    "norm = mpl.colors.Normalize(vmin=vmin, vmax=vmax)\n",
    "\n",
    "cbar = fig.colorbar(mpl.cm.ScalarMappable(norm=norm, cmap=cmap),\n",
    "             cax=ax, orientation='horizontal',format=\"%.0e\")\n",
    "cbar.set_ticks(np.arange(5)/4 * float(vmax))\n",
    "cbar.ax.tick_params(labelsize=20,**{\"top\": True,\"bottom\" : False,\"labeltop\": True,\"labelbottom\" : False})\n",
    "#cbar.set_ticklabels(np.arange(5)/4 * float(vmax),format=\"%.0e\")\n",
    "#cbar.set_ticklabels([mdates.datetime.datetime.fromtimestamp((s.colorbar.vmin + t*(s.colorbar.vmax-s.colorbar.vmin))/1000000000).strftime('%c') for t in cbar.ax.get_yticks()])\n",
    "plt.show()"
   ]
  },
  {
   "cell_type": "markdown",
   "id": "ff30ef35",
   "metadata": {},
   "source": [
    "# Euclidean"
   ]
  },
  {
   "cell_type": "code",
   "execution_count": 14,
   "id": "5cb74056",
   "metadata": {},
   "outputs": [
    {
     "name": "stderr",
     "output_type": "stream",
     "text": [
      "/Users/florian/opt/anaconda3/lib/python3.8/site-packages/torch/functional.py:445: UserWarning: torch.meshgrid: in an upcoming release, it will be required to pass the indexing argument. (Triggered internally at  /Users/distiller/project/conda/conda-bld/pytorch_1634272482218/work/aten/src/ATen/native/TensorShape.cpp:2157.)\n",
      "  return _VF.meshgrid(tensors, **kwargs)  # type: ignore[attr-defined]\n"
     ]
    }
   ],
   "source": [
    "#extract mm-spaces\n",
    "metric_mode_input = \"euclidean\"\n",
    "Xs = []\n",
    "Ms = []\n",
    "mus = []\n",
    "for im in ims:\n",
    "    unit_length = np.linalg.norm(np.shape(im) - np.array([1,1])) #**2\n",
    "\n",
    "    pos_1, mu_1 = img2atomic(torch.from_numpy(im))\n",
    "    pos_1 = np.array(pos_1,dtype=float)\n",
    "    pos_1 /= unit_length\n",
    "\n",
    "    M_1 = ot.dist(pos_1,metric=metric_mode_input)\n",
    "    M_1 = torch.from_numpy(M_1).double()\n",
    "    \n",
    "    Xs.append(pos_1)\n",
    "    Ms.append(M_1)\n",
    "    mus.append(mu_1)"
   ]
  },
  {
   "cell_type": "code",
   "execution_count": 15,
   "id": "966812ac",
   "metadata": {},
   "outputs": [],
   "source": [
    "# Construct support of barycenter\n",
    "Y_pixs = [50]#[10,25,40,50]\n",
    "metric_modes = [\"euclidean\"]*len(Y_pixs)\n",
    "Ys = []\n",
    "M_Ys = []\n",
    "M_Ys_sep = []\n",
    "bary_imgs = []\n",
    "for Y_len,mode in zip(Y_pixs,metric_modes):\n",
    "    bary_img = np.ones((Y_len,Y_len))\n",
    "    bary_imgs.append(bary_img)\n",
    "    Y = np.array(img2atomic(bary_img)[0],dtype=float)\n",
    "    Y /= np.linalg.norm([Y_len - 1,Y_len - 1])\n",
    "    Y = torch.from_numpy(Y)\n",
    "    M_Y = ot.dist(Y,Y,metric=mode)\n",
    "    M_Y = M_Y.double()\n",
    "    \n",
    "    Ys.append(Y)\n",
    "    M_Ys.append(M_Y)\n",
    "    #in seperable form for sqeuclidean case\n",
    "    if mode == \"sqeuclidean\":\n",
    "        M_Y_sep = squareform(pdist(torch.linspace(0, 1/np.sqrt(2), Y_len)[:, None], metric='sqeuclidean'))\n",
    "        M_Y_sep = torch.from_numpy(M_Y_sep)\n",
    "    else:\n",
    "        M_Y_sep = None\n",
    "    M_Ys_sep.append(M_Y_sep)\n",
    "    \n",
    "    "
   ]
  },
  {
   "cell_type": "code",
   "execution_count": 18,
   "id": "8da89d1f",
   "metadata": {},
   "outputs": [],
   "source": [
    "max_times = [300,320,350,500]"
   ]
  },
  {
   "cell_type": "code",
   "execution_count": 19,
   "id": "d9f56500",
   "metadata": {},
   "outputs": [
    {
     "name": "stdout",
     "output_type": "stream",
     "text": [
      "Terminated after 42 iterations with last update 1.1294938952354145e-07.\n"
     ]
    },
    {
     "data": {
      "application/vnd.jupyter.widget-view+json": {
       "model_id": "6466bb1bc5794a669861af8260a2aef1",
       "version_major": 2,
       "version_minor": 0
      },
      "text/plain": [
       "  0%|          | 0/42 [00:00<?, ?it/s]"
      ]
     },
     "metadata": {},
     "output_type": "display_data"
    },
    {
     "name": "stdout",
     "output_type": "stream",
     "text": [
      "Terminated after 20 iterations with last update 1.1781260352530145e-05.\n"
     ]
    },
    {
     "data": {
      "application/vnd.jupyter.widget-view+json": {
       "model_id": "3d6561b4e5d24a7280865c6d32c6a408",
       "version_major": 2,
       "version_minor": 0
      },
      "text/plain": [
       "  0%|          | 0/20 [00:00<?, ?it/s]"
      ]
     },
     "metadata": {},
     "output_type": "display_data"
    },
    {
     "name": "stdout",
     "output_type": "stream",
     "text": [
      "Terminated after 16 iterations with last update 1.970014199316174e-05.\n"
     ]
    },
    {
     "data": {
      "application/vnd.jupyter.widget-view+json": {
       "model_id": "066c86e78e264b459cc6836acdcb5131",
       "version_major": 2,
       "version_minor": 0
      },
      "text/plain": [
       "  0%|          | 0/16 [00:00<?, ?it/s]"
      ]
     },
     "metadata": {},
     "output_type": "display_data"
    },
    {
     "name": "stdout",
     "output_type": "stream",
     "text": [
      "Terminated after 18 iterations with last update 0.00029184649522530386.\n"
     ]
    },
    {
     "data": {
      "application/vnd.jupyter.widget-view+json": {
       "model_id": "0e5ceb344f5f4e0bb9057dff65e172fa",
       "version_major": 2,
       "version_minor": 0
      },
      "text/plain": [
       "  0%|          | 0/18 [00:00<?, ?it/s]"
      ]
     },
     "metadata": {},
     "output_type": "display_data"
    },
    {
     "data": {
      "image/png": "[encoded data removed]",
      "text/plain": [
       "<Figure size 432x288 with 1 Axes>"
      ]
     },
     "metadata": {
      "needs_background": "light"
     },
     "output_type": "display_data"
    }
   ],
   "source": [
    "#plot barycenter loss wrt time\n",
    "gw_losses_mm = []\n",
    "times_mm = []\n",
    "logs = []\n",
    "final_margs = []\n",
    "for Y,Y_len,M_Y,M_Y_sep,bary_img in zip(Ys,Y_pixs,M_Ys,M_Ys_sep,bary_imgs):\n",
    "    for i in range(2,len(ims)+1):\n",
    "        #construct tree\n",
    "        r = anytree.AnyNode(id=0)\n",
    "        n1 = anytree.AnyNode(id=1,parent=r)\n",
    "        n2 = anytree.AnyNode(id=2,parent=n1)\n",
    "        if i >= 3:\n",
    "            n3 = anytree.AnyNode(id=2,parent=n1)\n",
    "        if i >= 4:\n",
    "            n4 = anytree.AnyNode(id=3,parent=n1)\n",
    "        if i >= 5:\n",
    "            n5 = anytree.AnyNode(id=4,parent=n1)\n",
    "        forward = [node for node in anytree.PreOrderIter(r)]\n",
    "        idx = 0\n",
    "        for node in forward:\n",
    "            if node.id == 1:\n",
    "                #barycenter\n",
    "                node.rho = torch.Tensor([0])\n",
    "                node.M = M_Y\n",
    "                node.len = len(M_Y)\n",
    "                node.sep = M_Y_sep\n",
    "                continue\n",
    "            node.mu = mus[idx].double()\n",
    "            node.M = Ms[idx]\n",
    "            node.rho = torch.Tensor([np.inf])\n",
    "            node.sep = None\n",
    "            idx = idx+1\n",
    "\n",
    "        r,log = umgw.UMGW_sep(r,eps= 0.00015,rho=None,plan_cvgce_thres=0,sink_cvgce_thres=1e-6,n_its_check_cvgce=5,n_its = 10000,log=True,max_time=max_times[i-2],epsmode=\"normal\",random_state=0)\n",
    "        logs.append(log)\n",
    "\n",
    "        marg_img = np.copy(bary_img)\n",
    "        marg_img[bary_img == 1] = forward[1].marginal\n",
    "        final_margs.append(torch.from_numpy(marg_img))\n",
    "        pis_mm = log[\"plans\"]\n",
    "        time_mm = log[\"times\"]\n",
    "        margs_mm = [torch.sum(pis_mm[i][0],dim=0) for i in range(len(pis_mm))]\n",
    "\n",
    "\n",
    "        gw_loss_mm = []\n",
    "        for k in trange(len(margs_mm)):\n",
    "            gw_loss_mm.append(gw_bary_loss(Ms[:i],mus[:i],pis_mm[k],M_Y,margs_mm[k]))\n",
    "        gw_losses_mm.append(gw_loss_mm)\n",
    "        times_mm.append(time_mm)\n",
    "\n",
    "        plt.plot(time_mm,gw_loss_mm,label=\"UMGW '{0}'x'{1}'\".format(len(M_Y),len(M_Y[0])) )\n",
    "    plt.show()"
   ]
  },
  {
   "cell_type": "code",
   "execution_count": 48,
   "id": "6f06ff45",
   "metadata": {},
   "outputs": [],
   "source": [
    "#for i in range(4):\n",
    "    #np.savetxt(\"./out/multi/gw_losses_mm_{0}.txt\".format(i),gw_losses_mm[i])\n",
    "    #np.savetxt(\"./out/multi/times_mm_{0}.txt\".format(i),times_mm[i])"
   ]
  },
  {
   "cell_type": "code",
   "execution_count": 26,
   "id": "3523a7ea",
   "metadata": {},
   "outputs": [
    {
     "name": "stdout",
     "output_type": "stream",
     "text": [
      "[tensor(1328), tensor(1278), tensor(1264), tensor(1283)]\n"
     ]
    }
   ],
   "source": [
    "print(n_supps)"
   ]
  },
  {
   "cell_type": "code",
   "execution_count": 44,
   "id": "10e6b80e",
   "metadata": {
    "scrolled": true
   },
   "outputs": [
    {
     "data": {
      "application/vnd.jupyter.widget-view+json": {
       "model_id": "3f7cbafa2ed848d19debd66f842a4d58",
       "version_major": 2,
       "version_minor": 0
      },
      "text/plain": [
       "  0%|          | 0/12 [00:00<?, ?it/s]"
      ]
     },
     "metadata": {},
     "output_type": "display_data"
    },
    {
     "data": {
      "application/vnd.jupyter.widget-view+json": {
       "model_id": "313bfe867f8540218dcfe25544661315",
       "version_major": 2,
       "version_minor": 0
      },
      "text/plain": [
       "  0%|          | 0/9 [00:00<?, ?it/s]"
      ]
     },
     "metadata": {},
     "output_type": "display_data"
    },
    {
     "data": {
      "application/vnd.jupyter.widget-view+json": {
       "model_id": "c48f9f266d784632917b67ff0db0e7a0",
       "version_major": 2,
       "version_minor": 0
      },
      "text/plain": [
       "  0%|          | 0/5 [00:00<?, ?it/s]"
      ]
     },
     "metadata": {},
     "output_type": "display_data"
    },
    {
     "data": {
      "application/vnd.jupyter.widget-view+json": {
       "model_id": "a9fc9d812c6b40748f92d62735f13460",
       "version_major": 2,
       "version_minor": 0
      },
      "text/plain": [
       "  0%|          | 0/6 [00:00<?, ?it/s]"
      ]
     },
     "metadata": {},
     "output_type": "display_data"
    }
   ],
   "source": [
    "gw_losses_p_2d = []\n",
    "gw_losses_p = []\n",
    "times_p = []\n",
    "embeddings = []\n",
    "#n_samples = [20,50,100,200]\n",
    "for j,n_sample in enumerate(n_supps):\n",
    "    height_p = ot.unif(n_sample)\n",
    "\n",
    "    result_peyre = gromov_barycenters(n_sample,Ms[:2+j],mus[:2+j],height_p,ot.unif(2+j),\"square_loss\",tol=0,random_state = 0,max_time=max_times[j])\n",
    "\n",
    "    Ms_peyre = result_peyre[0]\n",
    "    Ts_peyre = result_peyre[1]\n",
    "    time_p = result_peyre[2]\n",
    "\n",
    "    gw_loss_p = []\n",
    "    gw_loss_p_2d = []\n",
    "    for i in trange(len(Ms_peyre)):\n",
    "        M_p = Ms_peyre[i]\n",
    "        Ts_p = Ts_peyre[i]\n",
    "        gw_loss_p.append(gw_bary_loss(Ms[:2+j],mus[:2+j],Ts_p,M_p,height_p))\n",
    "\n",
    "        #embedd in 2d with MDS\n",
    "        mds = MDS(n_components=2, metric=True, dissimilarity='precomputed',random_state=0)\n",
    "        embedding = mds.fit_transform(M_p)#np.sqrt(M_p))\n",
    "        \n",
    "        M_p_2d = torch.from_numpy(ot.dist(embedding,metric=\"euclidean\"))#**2\n",
    "        gw_loss_p_2d.append(gw_bary_loss(Ms[:2+j],mus[:2+j],Ts_p,M_p_2d,height_p))\n",
    "    embeddings.append(embedding)\n",
    "    gw_losses_p.append(gw_loss_p)\n",
    "    gw_losses_p_2d.append(gw_loss_p_2d)\n",
    "    times_p.append(time_p)"
   ]
  },
  {
   "cell_type": "code",
   "execution_count": 47,
   "id": "35d402d1",
   "metadata": {},
   "outputs": [],
   "source": [
    "#for i in range(4):\n",
    "#    np.savetxt(\"./out/multi/gw_losses_BCD_{0}.txt\".format(i),gw_losses_p[i])\n",
    "#    np.savetxt(\"./out/multi/times_BCD_{0}.txt\".format(i),times_p[i])"
   ]
  },
  {
   "cell_type": "code",
   "execution_count": 34,
   "id": "730cd1af",
   "metadata": {},
   "outputs": [
    {
     "name": "stderr",
     "output_type": "stream",
     "text": [
      "/Users/florian/opt/anaconda3/lib/python3.8/site-packages/ot/bregman.py:517: UserWarning: Sinkhorn did not converge. You might want to increase the number of iterations `numItermax` or the regularization parameter `reg`.\n",
      "  warnings.warn(\"Sinkhorn did not converge. You might want to \"\n"
     ]
    },
    {
     "data": {
      "application/vnd.jupyter.widget-view+json": {
       "model_id": "76f7749485c943f7881cdbec82bda43d",
       "version_major": 2,
       "version_minor": 0
      },
      "text/plain": [
       "  0%|          | 0/3 [00:00<?, ?it/s]"
      ]
     },
     "metadata": {},
     "output_type": "display_data"
    },
    {
     "name": "stderr",
     "output_type": "stream",
     "text": [
      "/Users/florian/opt/anaconda3/lib/python3.8/site-packages/ot/bregman.py:517: UserWarning: Sinkhorn did not converge. You might want to increase the number of iterations `numItermax` or the regularization parameter `reg`.\n",
      "  warnings.warn(\"Sinkhorn did not converge. You might want to \"\n"
     ]
    },
    {
     "data": {
      "application/vnd.jupyter.widget-view+json": {
       "model_id": "b13006bac83745ba976d9c093c235bca",
       "version_major": 2,
       "version_minor": 0
      },
      "text/plain": [
       "  0%|          | 0/2 [00:00<?, ?it/s]"
      ]
     },
     "metadata": {},
     "output_type": "display_data"
    },
    {
     "name": "stderr",
     "output_type": "stream",
     "text": [
      "/Users/florian/opt/anaconda3/lib/python3.8/site-packages/ot/bregman.py:517: UserWarning: Sinkhorn did not converge. You might want to increase the number of iterations `numItermax` or the regularization parameter `reg`.\n",
      "  warnings.warn(\"Sinkhorn did not converge. You might want to \"\n"
     ]
    },
    {
     "data": {
      "application/vnd.jupyter.widget-view+json": {
       "model_id": "922ec5d7292f4218a7285c8d3f294a19",
       "version_major": 2,
       "version_minor": 0
      },
      "text/plain": [
       "  0%|          | 0/2 [00:00<?, ?it/s]"
      ]
     },
     "metadata": {},
     "output_type": "display_data"
    },
    {
     "name": "stderr",
     "output_type": "stream",
     "text": [
      "/Users/florian/opt/anaconda3/lib/python3.8/site-packages/ot/bregman.py:517: UserWarning: Sinkhorn did not converge. You might want to increase the number of iterations `numItermax` or the regularization parameter `reg`.\n",
      "  warnings.warn(\"Sinkhorn did not converge. You might want to \"\n"
     ]
    },
    {
     "data": {
      "application/vnd.jupyter.widget-view+json": {
       "model_id": "a06ca6428f3a42cd92265878a4c80358",
       "version_major": 2,
       "version_minor": 0
      },
      "text/plain": [
       "  0%|          | 0/2 [00:00<?, ?it/s]"
      ]
     },
     "metadata": {},
     "output_type": "display_data"
    }
   ],
   "source": [
    "egw_losses_p_2d = []\n",
    "egw_losses_p = []\n",
    "etimes_p = []\n",
    "eembeddings = []\n",
    "#n_samples = [20,50,100,200]\n",
    "for j,n_sample in enumerate(n_supps):\n",
    "    height_p = ot.unif(n_sample)\n",
    "\n",
    "    result_peyre = entropic_gromov_barycenters(n_sample,Ms[:2+j],mus[:2+j],height_p,ot.unif(2+j),\"square_loss\",epsilon=0.0005,tol=0,random_state = 0,max_time=300)\n",
    "\n",
    "    Ms_peyre = result_peyre[0]\n",
    "    Ts_peyre = result_peyre[1]\n",
    "    time_p = result_peyre[2]\n",
    "\n",
    "    gw_loss_p = []\n",
    "    gw_loss_p_2d = []\n",
    "    for i in trange(len(Ms_peyre)):\n",
    "        M_p = Ms_peyre[i]\n",
    "        Ts_p = Ts_peyre[i]\n",
    "        gw_loss_p.append(gw_bary_loss(Ms[:2+j],mus[:2+j],Ts_p,M_p,height_p))\n",
    "\n",
    "        #embedd in 2d with MDS\n",
    "        mds = MDS(n_components=2, metric=True, dissimilarity='precomputed',random_state=0)\n",
    "        embedding = mds.fit_transform(M_p)#np.sqrt(M_p))\n",
    "        \n",
    "        M_p_2d = torch.from_numpy(ot.dist(embedding,metric=\"euclidean\"))#**2\n",
    "        gw_loss_p_2d.append(gw_bary_loss(Ms[:2+j],mus[:2+j],Ts_p,M_p_2d,height_p))\n",
    "    eembeddings.append(embedding)\n",
    "    egw_losses_p.append(gw_loss_p)\n",
    "    egw_losses_p_2d.append(gw_loss_p_2d)\n",
    "    etimes_p.append(time_p)"
   ]
  },
  {
   "cell_type": "code",
   "execution_count": 50,
   "id": "34e87a22",
   "metadata": {},
   "outputs": [],
   "source": [
    "#for i in range(4):\n",
    "#    np.savetxt(\"./out/multi/gw_losses_EBCD_{0}.txt\".format(i),egw_losses_p[i])\n",
    "#    np.savetxt(\"./out/multi/times_EBCD_{0}.txt\".format(i),etimes_p[i])"
   ]
  },
  {
   "cell_type": "code",
   "execution_count": 63,
   "id": "267e183e",
   "metadata": {},
   "outputs": [
    {
     "data": {
      "image/png": "[encoded data removed]",
      "text/plain": [
       "<Figure size 2880x720 with 4 Axes>"
      ]
     },
     "metadata": {
      "needs_background": "light"
     },
     "output_type": "display_data"
    }
   ],
   "source": [
    "xlims = [(0,300),(0,320),(0,350),(0,500)]\n",
    "\n",
    "fig,ax = plt.subplots(1,4,sharey=True,figsize=(40,10))\n",
    "linewidth = 6\n",
    "where=\"post\"\n",
    "ax[0].set_ylim(0,0.04)\n",
    "for a in ax:\n",
    "    for label in (a.get_xticklabels() + a.get_yticklabels()):\n",
    "        label.set_fontsize(25)\n",
    "for i in range(4):\n",
    "    ax[i].set_xlim(xlims[i])\n",
    "    ax[i].step(times_p[i],gw_losses_p[i],label=\"BCD\",color=colors[1],linewidth = linewidth,where=where)\n",
    "    ax[i].step(etimes_p[i],egw_losses_p[i],label=\"EBCD\",color=colors[2],linewidth = linewidth,where=where)\n",
    "    ax[i].step(times_mm[i],gw_losses_mm[i],label=\"MGW {0}x{1}\".format(Y_pixs[0],Y_pixs[0]),color=colors[0],linewidth = linewidth,where=where)\n",
    "\n",
    "plt.tight_layout()\n",
    "plt.show()"
   ]
  }
 ],
 "metadata": {
  "kernelspec": {
   "display_name": "Python 3 (ipykernel)",
   "language": "python",
   "name": "python3"
  },
  "language_info": {
   "codemirror_mode": {
    "name": "ipython",
    "version": 3
   },
   "file_extension": ".py",
   "mimetype": "text/x-python",
   "name": "python",
   "nbconvert_exporter": "python",
   "pygments_lexer": "ipython3",
   "version": "3.8.8"
  }
 },
 "nbformat": 4,
 "nbformat_minor": 5
}
