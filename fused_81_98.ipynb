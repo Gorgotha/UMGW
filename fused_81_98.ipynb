{
 "cells": [
  {
   "cell_type": "code",
   "execution_count": 1,
   "id": "e0a69cb4",
   "metadata": {},
   "outputs": [],
   "source": [
    "import numpy as np\n",
    "import matplotlib.pyplot as plt\n",
    "import ot\n",
    "from tqdm.notebook import trange\n",
    "import anytree\n",
    "import torch\n",
    "\n",
    "\n",
    "np.set_printoptions(suppress=True, precision=5)"
   ]
  },
  {
   "cell_type": "code",
   "execution_count": 2,
   "id": "545e99c2",
   "metadata": {},
   "outputs": [],
   "source": [
    "def MUGW_fused(r, eps, rho,alph,img1 = None,img2 = None,n_its = 80,\n",
    "    divergence='KL',\n",
    "    max_iter=10000,plan_cvgce_thres = 1e-6,\n",
    "    sink_cvgce_thres=1e-5,\n",
    "    n_its_check_cvgce=10,\n",
    "    sink_n_its_check_cvgce=10,\n",
    "    pot_large=1e10,\n",
    "    verbose=False,\n",
    "    plot_intermediate = False):\n",
    "    \n",
    "    forward = [node for node in anytree.PreOrderIter(r)]\n",
    "    i = 0\n",
    "    update = np.inf\n",
    "    for i in trange(n_its):\n",
    "        #Sinkhorn\n",
    "        r = umgw.tree_sinkhorn(r,eps,rho,divergence = divergence,max_iter=max_iter,cvgce_thres=sink_cvgce_thres,n_its_check_cvgce=n_its_check_cvgce,pot_large=pot_large,verbose=verbose)\n",
    "        \n",
    "        #Update pis and costs\n",
    "        for node in forward:\n",
    "            if node.is_root:\n",
    "                continue\n",
    "            old_pi = node.pi\n",
    "            node.old_pi = old_pi\n",
    "            new_pi = node.pi_left[:, None] * node.K * node.pi_right[None, :] #/ node.marginal\n",
    "            tmp2 = np.sqrt(np.sum(new_pi)/np.sum(old_pi))\n",
    "            node.pi =  (1/tmp2) * new_pi\n",
    "\n",
    "            node.cost = node.t * umgw.compute_local_cost(torch.from_numpy(node.pi), torch.from_numpy(np.ones(len(node.parent.M))/len(node.parent.M)), torch.from_numpy(node.parent.M), torch.from_numpy(np.ones(len(node.M))/len(node.M)), torch.from_numpy(node.M), eps, node.parent.rho, node.rho)\n",
    "            node.cost += eps * torch.sum(torch.from_numpy(node.pi) * (torch.from_numpy(node.pi) / torch.from_numpy(node.marginal**len(node.children)) + 1e-10).log())\n",
    "            node.cost = alph * node.cost\n",
    "            node.cost = node.cost + node.t *(1/2)*(1-alph) * node.ot_cost\n",
    "            \n",
    "            node.cost = np.array(node.cost)\n",
    "        \n",
    "        if i % n_its_check_cvgce == 0:\n",
    "            update = max([np.abs(node.old_pi - node.pi).max() \\\n",
    "                          / max(1., node.old_pi.max(), node.pi.max()) \\\n",
    "                        for node in forward[1:]])\n",
    "        i += 1\n",
    "        if update < plan_cvgce_thres:\n",
    "            break\n",
    "    \n",
    "    print(\"Terminated after {0} iterations with last update {1}.\".format(i, update))\n",
    "    return r"
   ]
  },
  {
   "cell_type": "code",
   "execution_count": 3,
   "id": "9e8c1a98",
   "metadata": {},
   "outputs": [],
   "source": [
    "def mm_from_img(img,metric=\"euclidean\",norm_grid = True, norm_meas=True):\n",
    "    assert img.ndim == 2, \"img needs to be 2d array\"\n",
    "    supp = np.dstack(np.where(img > 0))[0]\n",
    "    height = img[supp[:,0],supp[:,1]]\n",
    "    if norm_grid:\n",
    "        unit_length = np.linalg.norm(np.shape(img) - np.array([1,1]))\n",
    "        supp = supp / unit_length\n",
    "    if norm_meas:\n",
    "        height /= np.sum(height)\n",
    "    #if normalize_\n",
    "    M = ot.dist(supp,supp,metric=metric)\n",
    "    return [supp,M,height]"
   ]
  },
  {
   "cell_type": "code",
   "execution_count": 4,
   "id": "a7fbf01c",
   "metadata": {},
   "outputs": [],
   "source": [
    "def vis_gw_plan(img1,pos1,pos2,height2,P,return_img = False, plot_img = True,sub_box=False,img1_given =False):\n",
    "    #Colour img1\n",
    "    nx,ny = np.shape(img1)[:2]\n",
    "    if sub_box:\n",
    "        x_min = int(np.min(pos1[:,0]))\n",
    "        x_max = int(np.max(pos1[:,0]))\n",
    "        y_min = int(np.min(pos1[:,1]))\n",
    "        y_max = int(np.max(pos1[:,1]))\n",
    "    else:\n",
    "        x_min = 0\n",
    "        x_max = nx\n",
    "        y_min = 0\n",
    "        y_max = ny\n",
    "    if img1_given:\n",
    "        img1_col = img1\n",
    "    else:\n",
    "        img1_col = np.zeros((nx, ny, 3))\n",
    "        for i in range(nx):\n",
    "            for j in range(ny):\n",
    "                if img1[i, j] != 0:\n",
    "                    col = [1, (i - x_min) / (x_max - x_min), (j - y_min) / (y_max - y_min)]\n",
    "                    img1_col[i, j] = col\n",
    "\n",
    "    #Calculate colours in img2 according to P\n",
    "    n_pts1 = len(pos1)\n",
    "    n_pts2 = len(pos2)\n",
    "    counts = np.zeros(n_pts2)\n",
    "    cols = np.zeros((n_pts2,3))\n",
    "    for j in range(n_pts2):\n",
    "        for i in range(n_pts1):\n",
    "            if P[i,j] != 0:\n",
    "                counts[j] += 1\n",
    "                x,y = pos1[i]\n",
    "                #print(x,y)\n",
    "                cols[j] += P[i,j]/height2[j] * img1_col[x,y]\n",
    "        cols[j] = cols[j] #/ height2[j]\n",
    "        \n",
    "    #Colour img2\n",
    "    img2_col = np.zeros((nx,ny,3))\n",
    "    for i in range(n_pts2):\n",
    "        x,y = pos2[i]\n",
    "        img2_col[x,y] = cols[i]\n",
    "\n",
    "    #Plot\n",
    "    if plot_img:\n",
    "        fig, ax = plt.subplots(1,2,figsize = (10,20))\n",
    "        ax[0].imshow(img1_col)\n",
    "        ax[1].imshow(img2_col)\n",
    "        plt.show()\n",
    "    if return_img:\n",
    "        return img1_col.clip(min=0,max=1),img2_col.clip(min=0,max=1)"
   ]
  },
  {
   "cell_type": "code",
   "execution_count": 5,
   "id": "38699db5",
   "metadata": {},
   "outputs": [],
   "source": [
    "#choose to load 81 or 98:\n",
    "#num = \"81\"\n",
    "num = \"98\"\n",
    "\n",
    "data = [np.load(\"./{0}_0.npy\".format(num)),np.load(\"./{0}_1.npy\".format(num))]\n",
    "data_col = [np.load(\"./c_{0}_0.npy\".format(num)),np.load(\"./c_{0}_1.npy\".format(num))]"
   ]
  },
  {
   "cell_type": "code",
   "execution_count": 6,
   "id": "79b24b6c",
   "metadata": {},
   "outputs": [],
   "source": [
    "#create mm-spaces\n",
    "mms = [mm_from_img(data[i],norm_grid=False) for i in range(2)]"
   ]
  },
  {
   "cell_type": "code",
   "execution_count": 7,
   "id": "363f5aba",
   "metadata": {},
   "outputs": [],
   "source": [
    "#label costs\n",
    "L = []\n",
    "labels = []\n",
    "for pos in mms[0][0]:\n",
    "    if data[0][pos[0],pos[1]] != 0 and np.all(data_col[0][pos[0],pos[1]] == [1,0,0]):\n",
    "        label = 0\n",
    "    elif data[0][pos[0],pos[1]] != 0 and np.all(data_col[0][pos[0],pos[1]] == [0,0,1]):\n",
    "        label = 1\n",
    "    labels.append(label)\n",
    "L.append(np.array(labels))\n",
    "\n",
    "labels = []\n",
    "for pos in mms[1][0]:\n",
    "    if data[1][pos[0],pos[1]] != 0 and np.all(data_col[1][pos[0],pos[1]] == [1,0,0]):\n",
    "        label = 0\n",
    "    elif data[1][pos[0],pos[1]] != 0 and np.all(data_col[1][pos[0],pos[1]] == [0,0,1]):\n",
    "        label = 1\n",
    "    labels.append(label)\n",
    "L.append(np.array(labels))"
   ]
  },
  {
   "cell_type": "code",
   "execution_count": 8,
   "id": "ffc56e23",
   "metadata": {},
   "outputs": [],
   "source": [
    "t = 0.5"
   ]
  },
  {
   "cell_type": "code",
   "execution_count": 9,
   "id": "9e6a2696",
   "metadata": {},
   "outputs": [],
   "source": [
    "nx,ny = np.shape(data[0])\n",
    "grid = np.ones((nx,ny))\n",
    "Y,M_Y,height_Y = mm_from_img(grid,norm_grid=False)"
   ]
  },
  {
   "cell_type": "code",
   "execution_count": 10,
   "id": "29c832e9",
   "metadata": {},
   "outputs": [],
   "source": [
    "labels_Y = np.zeros(len(Y))\n",
    "for i in range(len(Y)):\n",
    "    if Y[i][1] < ny/2:\n",
    "        labels_Y[i] = 1"
   ]
  },
  {
   "cell_type": "code",
   "execution_count": 11,
   "id": "6d969b07",
   "metadata": {},
   "outputs": [
    {
     "data": {
      "image/png": "[encoded data removed]",
      "text/plain": [
       "<Figure size 432x288 with 2 Axes>"
      ]
     },
     "metadata": {
      "needs_background": "light"
     },
     "output_type": "display_data"
    }
   ],
   "source": [
    "#plot labelled mm-space of barycenter\n",
    "plt.imshow(labels_Y.reshape(nx,ny))\n",
    "plt.colorbar()\n",
    "plt.show()"
   ]
  },
  {
   "cell_type": "code",
   "execution_count": 12,
   "id": "aee7a755",
   "metadata": {},
   "outputs": [],
   "source": [
    "max_dist = np.linalg.norm(np.array((nx,ny)) - np.array([1,1]))"
   ]
  },
  {
   "cell_type": "code",
   "execution_count": 13,
   "id": "edec7585",
   "metadata": {},
   "outputs": [],
   "source": [
    "ot_cost_1 = ot.dist(L[0].reshape(-1,1),labels_Y.reshape(-1,1))\n",
    "\n",
    "ot_cost_2 = ot.dist(labels_Y.reshape(-1,1),L[1].reshape(-1,1))"
   ]
  },
  {
   "cell_type": "code",
   "execution_count": 14,
   "id": "01be5474",
   "metadata": {},
   "outputs": [],
   "source": [
    "t = 0.5"
   ]
  },
  {
   "cell_type": "code",
   "execution_count": 15,
   "id": "cf784c9a",
   "metadata": {},
   "outputs": [],
   "source": [
    "import umgw"
   ]
  },
  {
   "cell_type": "code",
   "execution_count": 16,
   "id": "e513e5cc",
   "metadata": {},
   "outputs": [],
   "source": [
    "def proc(mm1,mm2,M_Y,max_dist,ot_cost_1,ot_cost_2,eps,t,alph,rho,grid):\n",
    "    r = anytree.AnyNode(id=0)\n",
    "    n1 = anytree.AnyNode(id=1,parent=r)\n",
    "    n4 = anytree.AnyNode(id=2,parent=n1)\n",
    "\n",
    "    r.t = None\n",
    "    n1.t = t\n",
    "    n4.t = 1-t\n",
    "    forward = [node for node in anytree.PreOrderIter(r)]\n",
    "\n",
    "    r.mu = mm1[2]\n",
    "    r.M = mm1[1]/max_dist\n",
    "    r.pi = None\n",
    "    r.cost = None\n",
    "    r.rho = rho\n",
    "\n",
    "    #n1.mu = None #barycenter\n",
    "    n1.rho = 0\n",
    "    n1.M = M_Y /max_dist\n",
    "    n1.pi = r.mu[:,None] * ot.unif(len(n1.M))[None,:]\n",
    "    n1.pi = n1.pi / np.sum(n1.pi)\n",
    "\n",
    "    n1.cost = np.array(umgw.compute_local_cost(torch.from_numpy(n1.pi),torch.from_numpy(r.mu),torch.from_numpy(r.M),torch.from_numpy(ot.unif(len(n1.M))),torch.from_numpy(n1.M),eps,rho,rho))\n",
    "    #n1.cost = local_cost(n1.pi,r.M,n1.M)\n",
    "    #tmp = ot.dist(mms[0][0],Y,metric=\"sqeuclidean\")\n",
    "    if ot_cost_1 is None:\n",
    "        n1.ot_cost = np.zeros((np.shape(mm1)[0],np.shape(M_Y)[0]))\n",
    "    else:\n",
    "        n1.ot_cost = ot_cost_1\n",
    "\n",
    "\n",
    "    n4.mu = mm2[2]\n",
    "    n4.M = mm2[1]/max_dist\n",
    "    n4.pi = ot.unif(len(n1.M))[:,None] * n4.mu[None,:]\n",
    "    n4.pi = n4.pi / np.sum(n4.pi)\n",
    "    #n4.rho = np.inf\n",
    "    n4.rho = rho\n",
    "\n",
    "    n4.cost = np.array(umgw.compute_local_cost(torch.from_numpy(n4.pi),torch.from_numpy(ot.unif(len(n1.M))),torch.from_numpy(n1.M),torch.from_numpy(n4.mu),torch.from_numpy(n4.M),eps,rho,rho))\n",
    "    #n4.cost = local_cost(n4.pi,n1.M,n4.M)\n",
    "    #tmp = ot.dist(Y,mms[1][0],metric=\"sqeuclidean\")\n",
    "    if ot_cost_2 is None:\n",
    "        n4.ot_cost = np.zeros((np.shape(M_Y)[0],np.shape(mm1)[0]))\n",
    "    else:\n",
    "        n4.ot_cost = ot_cost_2\n",
    "\n",
    "\n",
    "    result = MUGW_fused(r,eps= eps,rho=rho,alph=alph,plan_cvgce_thres=1e-6,sink_cvgce_thres=1e-7,n_its_check_cvgce=5,n_its = 200,img1 = None, img2 = None,plot_intermediate=False)\n",
    "    return n1.marginal.reshape(np.shape(grid)),n1.pi,n4.pi"
   ]
  },
  {
   "cell_type": "code",
   "execution_count": 17,
   "id": "4c3f523f",
   "metadata": {},
   "outputs": [],
   "source": [
    "barys = []\n",
    "pi1s = []\n",
    "pi2s = []"
   ]
  },
  {
   "cell_type": "code",
   "execution_count": 18,
   "id": "247dbd75",
   "metadata": {
    "scrolled": true
   },
   "outputs": [
    {
     "data": {
      "application/vnd.jupyter.widget-view+json": {
       "model_id": "0a5db03ec90c4961aedeb1cd1e0fe2a6",
       "version_major": 2,
       "version_minor": 0
      },
      "text/plain": [
       "  0%|          | 0/200 [00:00<?, ?it/s]"
      ]
     },
     "metadata": {},
     "output_type": "display_data"
    },
    {
     "name": "stdout",
     "output_type": "stream",
     "text": [
      "Terminated after 200 iterations with last update 1.0378185393231923e-06.\n"
     ]
    }
   ],
   "source": [
    "#GW\n",
    "eps = 0.0002\n",
    "rho = np.inf\n",
    "alph = 1\n",
    "t = 0.5\n",
    "\n",
    "bary_gw,pi1_gw,pi2_gw = proc(mms[0],mms[1],M_Y,max_dist,ot_cost_1,ot_cost_2,eps=eps,t = t,alph = alph,rho = rho,grid = grid)\n"
   ]
  },
  {
   "cell_type": "code",
   "execution_count": 19,
   "id": "38e602bb",
   "metadata": {},
   "outputs": [
    {
     "data": {
      "application/vnd.jupyter.widget-view+json": {
       "model_id": "c24283479ac94787a9f1bb36e9b98cd3",
       "version_major": 2,
       "version_minor": 0
      },
      "text/plain": [
       "  0%|          | 0/200 [00:00<?, ?it/s]"
      ]
     },
     "metadata": {},
     "output_type": "display_data"
    },
    {
     "name": "stdout",
     "output_type": "stream",
     "text": [
      "Terminated after 200 iterations with last update 1.0677753990281837e-06.\n"
     ]
    }
   ],
   "source": [
    "#UGW\n",
    "eps = 0.0002\n",
    "rho = 0.01\n",
    "alph = 1\n",
    "t = 0.5\n",
    "\n",
    "bary_ugw,pi1_ugw,pi2_ugw = proc(mms[0],mms[1],M_Y,max_dist,ot_cost_1,ot_cost_2,eps=eps,t = t,alph = alph,rho = rho,grid = grid)\n"
   ]
  },
  {
   "cell_type": "code",
   "execution_count": 20,
   "id": "b32668a7",
   "metadata": {},
   "outputs": [
    {
     "data": {
      "application/vnd.jupyter.widget-view+json": {
       "model_id": "52d7f97139cd4cafa2957813d3bd48bc",
       "version_major": 2,
       "version_minor": 0
      },
      "text/plain": [
       "  0%|          | 0/200 [00:00<?, ?it/s]"
      ]
     },
     "metadata": {},
     "output_type": "display_data"
    },
    {
     "name": "stdout",
     "output_type": "stream",
     "text": [
      "Terminated after 56 iterations with last update 4.617713729421864e-07.\n"
     ]
    }
   ],
   "source": [
    "#FGW\n",
    "eps = 0.0002\n",
    "rho = np.inf\n",
    "alph = 0.5\n",
    "t = 0.5\n",
    "\n",
    "bary_fgw,pi1_fgw,pi2_fgw = proc(mms[0],mms[1],M_Y,max_dist,ot_cost_1,ot_cost_2,eps=eps,t = t,alph = alph,rho = rho,grid = grid)\n"
   ]
  },
  {
   "cell_type": "code",
   "execution_count": 21,
   "id": "c31127da",
   "metadata": {},
   "outputs": [
    {
     "data": {
      "application/vnd.jupyter.widget-view+json": {
       "model_id": "6d46c2e5f53a46628396812d1e8ea695",
       "version_major": 2,
       "version_minor": 0
      },
      "text/plain": [
       "  0%|          | 0/200 [00:00<?, ?it/s]"
      ]
     },
     "metadata": {},
     "output_type": "display_data"
    },
    {
     "name": "stdout",
     "output_type": "stream",
     "text": [
      "Terminated after 66 iterations with last update 3.612077625291237e-07.\n"
     ]
    }
   ],
   "source": [
    "#UFGW\n",
    "eps = 0.0002\n",
    "rho = 0.01\n",
    "alph = 0.5\n",
    "t = 0.5\n",
    "\n",
    "bary_ufgw,pi1_ufgw,pi2_ufgw = proc(mms[0],mms[1],M_Y,max_dist,ot_cost_1,ot_cost_2,eps=eps,t = t,alph = alph,rho = rho,grid = grid)\n"
   ]
  },
  {
   "cell_type": "code",
   "execution_count": 22,
   "id": "6eed0fa4",
   "metadata": {},
   "outputs": [],
   "source": [
    "#add all barycenters and plans to list\n",
    "barylist = [bary_gw,bary_ugw,bary_fgw,bary_ufgw]\n",
    "pilist = [[pi1_gw,pi2_gw],[pi1_ugw,pi2_ugw],[pi1_fgw,pi2_fgw],[pi1_ufgw,pi2_ufgw]]"
   ]
  },
  {
   "cell_type": "code",
   "execution_count": 23,
   "id": "056bf988",
   "metadata": {},
   "outputs": [],
   "source": [
    "#threshold barycenters and color according to transport\n",
    "barylist_col = []\n",
    "for i in range(4):\n",
    "    pi1,pi2 = pilist[i]\n",
    "    bary = barylist[i]\n",
    "    bary_col_1 = vis_gw_plan(data_col[0],mms[0][0],Y,bary.flatten(),pi1,return_img=True,plot_img=False,sub_box=True,img1_given =True)[1]\n",
    "    bary_col_2 = vis_gw_plan(data_col[1],mms[1][0],Y,bary.flatten(),pi2.T,return_img=True,plot_img=False,sub_box=True,img1_given =True)[1]\n",
    "    \n",
    "    bary_col = np.mean([bary_col_1,bary_col_2],axis=0)\n",
    "    bary_col[bary < 0.0018] = [0,0,0]\n",
    "    barylist_col.append(bary_col)"
   ]
  },
  {
   "cell_type": "code",
   "execution_count": 24,
   "id": "10896485",
   "metadata": {},
   "outputs": [
    {
     "data": {
      "image/png": "[encoded data removed]",
      "text/plain": [
       "<Figure size 2160x792 with 18 Axes>"
      ]
     },
     "metadata": {
      "needs_background": "light"
     },
     "output_type": "display_data"
    }
   ],
   "source": [
    "#full plot\n",
    "from mpl_toolkits.axes_grid1 import make_axes_locatable\n",
    "fig,ax = plt.subplots(2,6,figsize=(30,11))\n",
    "\n",
    "labelsize= 25\n",
    "\n",
    "im = ax[0,0].imshow(data[0]/np.sum(data[0]))\n",
    "ax[0,0].axis(\"off\")\n",
    "ticks = (np.arange(5)/4)*np.max(data[0]/np.sum(data[0]))\n",
    "cb = plt.colorbar(im,ax=ax[0,0],orientation=\"horizontal\",location=\"top\",ticks = ticks,format=\"%.3f\")\n",
    "cb.ax.tick_params(labelsize=labelsize,labelrotation = 90)\n",
    "\n",
    "im = ax[0,1].imshow(data[1]/np.sum(data[1]))\n",
    "ax[0,1].axis(\"off\")\n",
    "ticks = (np.arange(5)/4)*np.max(data[1]/np.sum(data[1]))\n",
    "cb = plt.colorbar(im,ax=ax[0,1],orientation=\"horizontal\",location=\"top\",ticks = ticks,format=\"%.3f\")\n",
    "cb.ax.tick_params(labelsize=labelsize,labelrotation = 90)\n",
    "\n",
    "ax[1,0].imshow(data_col[0])\n",
    "ax[1,0].axis(\"off\")\n",
    "\n",
    "ax[1,1].imshow(data_col[1])\n",
    "ax[1,1].axis(\"off\")\n",
    "\n",
    "for i in range(4):\n",
    "    im = ax[0,i+2].imshow(barylist[i])\n",
    "    ax[1,i+2].imshow(barylist_col[i])\n",
    "    \n",
    "    ticks = (np.arange(5)/4)*np.max(barylist[i])\n",
    "    cb = plt.colorbar(im,ax=ax[0,i+2],orientation=\"horizontal\",location=\"top\",ticks = ticks,format=\"%.3f\")\n",
    "    cb.ax.tick_params(labelsize=labelsize,labelrotation = 90)\n",
    "\n",
    "    \n",
    "    ax[0,i+2].axis(\"off\")\n",
    "    ax[1,i+2].axis(\"off\")\n",
    "    \n",
    "plt.tight_layout()\n",
    "plt.show()"
   ]
  }
 ],
 "metadata": {
  "kernelspec": {
   "display_name": "Python 3 (ipykernel)",
   "language": "python",
   "name": "python3"
  },
  "language_info": {
   "codemirror_mode": {
    "name": "ipython",
    "version": 3
   },
   "file_extension": ".py",
   "mimetype": "text/x-python",
   "name": "python",
   "nbconvert_exporter": "python",
   "pygments_lexer": "ipython3",
   "version": "3.8.8"
  }
 },
 "nbformat": 4,
 "nbformat_minor": 5
}
